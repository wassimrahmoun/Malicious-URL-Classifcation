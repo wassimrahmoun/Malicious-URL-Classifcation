{
  "cells": [
    {
      "cell_type": "markdown",
      "id": "be50ffee",
      "metadata": {
        "id": "be50ffee"
      },
      "source": [
        "## Importing Packages"
      ]
    },
    {
      "cell_type": "code",
      "execution_count": 1,
      "id": "ueSgkuI-Ype8",
      "metadata": {
        "id": "ueSgkuI-Ype8"
      },
      "outputs": [
        {
          "name": "stderr",
          "output_type": "stream",
          "text": [
            "The system cannot find the path specified.\n"
          ]
        }
      ],
      "source": [
        "!pip install tldextract > /dev/null"
      ]
    },
    {
      "cell_type": "code",
      "execution_count": 1,
      "id": "be59c148",
      "metadata": {
        "id": "be59c148"
      },
      "outputs": [],
      "source": [
        "import pandas as pd\n",
        "import numpy as np\n",
        "import gc\n",
        "from sklearn.model_selection import train_test_split\n",
        "from keras.models import  Sequential\n",
        "from sklearn.preprocessing import LabelEncoder\n",
        "import random\n",
        "from sklearn.ensemble import ExtraTreesClassifier\n",
        "from sklearn.metrics import accuracy_score, confusion_matrix, classification_report\n",
        "from urllib.parse import urlparse\n",
        "import re\n",
        "import tldextract\n",
        "from sklearn.model_selection import RandomizedSearchCV\n",
        "import plotly.express as px\n",
        "import matplotlib.pyplot as plt\n",
        "import seaborn as sns"
      ]
    },
    {
      "cell_type": "markdown",
      "id": "74be59a4",
      "metadata": {
        "id": "74be59a4"
      },
      "source": [
        "## Loading Data"
      ]
    },
    {
      "cell_type": "code",
      "execution_count": 3,
      "id": "4b3d004f",
      "metadata": {
        "colab": {
          "base_uri": "https://localhost:8080/"
        },
        "id": "4b3d004f",
        "outputId": "081d597b-745d-4906-ec82-f83e5c2c139c"
      },
      "outputs": [
        {
          "name": "stdout",
          "output_type": "stream",
          "text": [
            "Path to dataset files: C:\\Users\\OMEN\\.cache\\kagglehub\\datasets\\sid321axn\\malicious-urls-dataset\\versions\\1\n"
          ]
        }
      ],
      "source": [
        "import kagglehub\n",
        "\n",
        "# Download latest version\n",
        "path = kagglehub.dataset_download(\"sid321axn/malicious-urls-dataset\")\n",
        "\n",
        "print(\"Path to dataset files:\", path)"
      ]
    },
    {
      "cell_type": "code",
      "execution_count": 5,
      "id": "1uRGk3v3YwlP",
      "metadata": {
        "id": "1uRGk3v3YwlP"
      },
      "outputs": [
        {
          "name": "stderr",
          "output_type": "stream",
          "text": [
            "<>:4: SyntaxWarning: invalid escape sequence '\\m'\n",
            "<>:4: SyntaxWarning: invalid escape sequence '\\m'\n",
            "C:\\Users\\OMEN\\AppData\\Local\\Temp\\ipykernel_6436\\475881228.py:4: SyntaxWarning: invalid escape sequence '\\m'\n",
            "  data = pd.read_csv(f\"{path}\\malicious_phish.csv\")\n"
          ]
        }
      ],
      "source": [
        "try : \n",
        "  data = pd.read_csv('/kaggle/input/malicious-urls-dataset/malicious_phish.csv')\n",
        "except :\n",
        "  data = pd.read_csv(f\"{path}\\malicious_phish.csv\")"
      ]
    },
    {
      "cell_type": "code",
      "execution_count": 6,
      "id": "3b77a69a",
      "metadata": {
        "colab": {
          "base_uri": "https://localhost:8080/",
          "height": 206
        },
        "id": "3b77a69a",
        "outputId": "a957986b-bbb4-4058-fffb-753e47e96803"
      },
      "outputs": [
        {
          "data": {
            "text/html": [
              "<div>\n",
              "<style scoped>\n",
              "    .dataframe tbody tr th:only-of-type {\n",
              "        vertical-align: middle;\n",
              "    }\n",
              "\n",
              "    .dataframe tbody tr th {\n",
              "        vertical-align: top;\n",
              "    }\n",
              "\n",
              "    .dataframe thead th {\n",
              "        text-align: right;\n",
              "    }\n",
              "</style>\n",
              "<table border=\"1\" class=\"dataframe\">\n",
              "  <thead>\n",
              "    <tr style=\"text-align: right;\">\n",
              "      <th></th>\n",
              "      <th>url</th>\n",
              "      <th>type</th>\n",
              "    </tr>\n",
              "  </thead>\n",
              "  <tbody>\n",
              "    <tr>\n",
              "      <th>214897</th>\n",
              "      <td>http://shantasells.com/blog/for-buyers.1</td>\n",
              "      <td>defacement</td>\n",
              "    </tr>\n",
              "    <tr>\n",
              "      <th>117065</th>\n",
              "      <td>bukisa.com/topics/roman-catholic-church-in-quebec</td>\n",
              "      <td>benign</td>\n",
              "    </tr>\n",
              "    <tr>\n",
              "      <th>551684</th>\n",
              "      <td>http://164.68.127.176/beastmode/b3astmode.ppc</td>\n",
              "      <td>malware</td>\n",
              "    </tr>\n",
              "    <tr>\n",
              "      <th>83598</th>\n",
              "      <td>askheritage.com/</td>\n",
              "      <td>benign</td>\n",
              "    </tr>\n",
              "    <tr>\n",
              "      <th>97299</th>\n",
              "      <td>stlzoo.org/events/calendarofevents/spookysaturday</td>\n",
              "      <td>benign</td>\n",
              "    </tr>\n",
              "  </tbody>\n",
              "</table>\n",
              "</div>"
            ],
            "text/plain": [
              "                                                      url        type\n",
              "214897           http://shantasells.com/blog/for-buyers.1  defacement\n",
              "117065  bukisa.com/topics/roman-catholic-church-in-quebec      benign\n",
              "551684      http://164.68.127.176/beastmode/b3astmode.ppc     malware\n",
              "83598                                    askheritage.com/      benign\n",
              "97299   stlzoo.org/events/calendarofevents/spookysaturday      benign"
            ]
          },
          "execution_count": 6,
          "metadata": {},
          "output_type": "execute_result"
        }
      ],
      "source": [
        "data.sample(5)"
      ]
    },
    {
      "cell_type": "code",
      "execution_count": null,
      "id": "f4746755",
      "metadata": {
        "id": "f4746755"
      },
      "outputs": [],
      "source": [
        "# phishing using URLs, attackers create fake websites (that look like legitimate ones) to collect sensitive information\n",
        "# defacement : URL Redirects , Subdomain or URL Path Hijacking ,\n",
        "# Injecting Malicious Content:   Attackers might manipulate URLs or inject malicious code (such as JavaScript) through URL parameters. This can cause the targeted webpage to display altered or harmful content to the user\n",
        "# Defacement through URL Spoofing: An attacker may create a fake URL that looks like the legitimate website’s URL. The attacker may modify the page associated with that URL to display their own content, similar to how a website defacement works."
      ]
    },
    {
      "cell_type": "code",
      "execution_count": 7,
      "id": "4d305c9c",
      "metadata": {
        "colab": {
          "base_uri": "https://localhost:8080/"
        },
        "id": "4d305c9c",
        "outputId": "55ed1c5b-669a-43c2-e296-0c28c83e9efb"
      },
      "outputs": [
        {
          "data": {
            "text/plain": [
              "(651191, 2)"
            ]
          },
          "execution_count": 7,
          "metadata": {},
          "output_type": "execute_result"
        }
      ],
      "source": [
        "data.shape"
      ]
    },
    {
      "cell_type": "markdown",
      "id": "be038a80",
      "metadata": {
        "id": "be038a80"
      },
      "source": [
        "## Data visualisation 📈"
      ]
    },
    {
      "cell_type": "code",
      "execution_count": 8,
      "id": "eac416a8",
      "metadata": {
        "colab": {
          "base_uri": "https://localhost:8080/",
          "height": 542
        },
        "id": "eac416a8",
        "outputId": "38cc41bf-96c2-4a15-8e03-b81030cd2d0d",
        "vscode": {
          "languageId": "javascript"
        }
      },
      "outputs": [
        {
          "data": {
            "application/vnd.plotly.v1+json": {
              "config": {
                "plotlyServerURL": "https://plot.ly"
              },
              "data": [
                {
                  "alignmentgroup": "True",
                  "hovertemplate": "Type=%{x}<br>Count=%{y}<extra></extra>",
                  "legendgroup": "benign",
                  "marker": {
                    "color": "green",
                    "pattern": {
                      "shape": ""
                    }
                  },
                  "name": "benign",
                  "offsetgroup": "benign",
                  "orientation": "v",
                  "showlegend": true,
                  "textposition": "auto",
                  "type": "bar",
                  "x": [
                    "benign"
                  ],
                  "xaxis": "x",
                  "y": [
                    428103
                  ],
                  "yaxis": "y"
                },
                {
                  "alignmentgroup": "True",
                  "hovertemplate": "Type=%{x}<br>Count=%{y}<extra></extra>",
                  "legendgroup": "defacement",
                  "marker": {
                    "color": "brown",
                    "pattern": {
                      "shape": ""
                    }
                  },
                  "name": "defacement",
                  "offsetgroup": "defacement",
                  "orientation": "v",
                  "showlegend": true,
                  "textposition": "auto",
                  "type": "bar",
                  "x": [
                    "defacement"
                  ],
                  "xaxis": "x",
                  "y": [
                    96457
                  ],
                  "yaxis": "y"
                },
                {
                  "alignmentgroup": "True",
                  "hovertemplate": "Type=%{x}<br>Count=%{y}<extra></extra>",
                  "legendgroup": "phishing",
                  "marker": {
                    "color": "orange",
                    "pattern": {
                      "shape": ""
                    }
                  },
                  "name": "phishing",
                  "offsetgroup": "phishing",
                  "orientation": "v",
                  "showlegend": true,
                  "textposition": "auto",
                  "type": "bar",
                  "x": [
                    "phishing"
                  ],
                  "xaxis": "x",
                  "y": [
                    94111
                  ],
                  "yaxis": "y"
                },
                {
                  "alignmentgroup": "True",
                  "hovertemplate": "Type=%{x}<br>Count=%{y}<extra></extra>",
                  "legendgroup": "malware",
                  "marker": {
                    "color": "red",
                    "pattern": {
                      "shape": ""
                    }
                  },
                  "name": "malware",
                  "offsetgroup": "malware",
                  "orientation": "v",
                  "showlegend": true,
                  "textposition": "auto",
                  "type": "bar",
                  "x": [
                    "malware"
                  ],
                  "xaxis": "x",
                  "y": [
                    32520
                  ],
                  "yaxis": "y"
                }
              ],
              "layout": {
                "barmode": "relative",
                "legend": {
                  "title": {
                    "text": "Type"
                  },
                  "tracegroupgap": 0
                },
                "template": {
                  "data": {
                    "bar": [
                      {
                        "error_x": {
                          "color": "#2a3f5f"
                        },
                        "error_y": {
                          "color": "#2a3f5f"
                        },
                        "marker": {
                          "line": {
                            "color": "#E5ECF6",
                            "width": 0.5
                          },
                          "pattern": {
                            "fillmode": "overlay",
                            "size": 10,
                            "solidity": 0.2
                          }
                        },
                        "type": "bar"
                      }
                    ],
                    "barpolar": [
                      {
                        "marker": {
                          "line": {
                            "color": "#E5ECF6",
                            "width": 0.5
                          },
                          "pattern": {
                            "fillmode": "overlay",
                            "size": 10,
                            "solidity": 0.2
                          }
                        },
                        "type": "barpolar"
                      }
                    ],
                    "carpet": [
                      {
                        "aaxis": {
                          "endlinecolor": "#2a3f5f",
                          "gridcolor": "white",
                          "linecolor": "white",
                          "minorgridcolor": "white",
                          "startlinecolor": "#2a3f5f"
                        },
                        "baxis": {
                          "endlinecolor": "#2a3f5f",
                          "gridcolor": "white",
                          "linecolor": "white",
                          "minorgridcolor": "white",
                          "startlinecolor": "#2a3f5f"
                        },
                        "type": "carpet"
                      }
                    ],
                    "choropleth": [
                      {
                        "colorbar": {
                          "outlinewidth": 0,
                          "ticks": ""
                        },
                        "type": "choropleth"
                      }
                    ],
                    "contour": [
                      {
                        "colorbar": {
                          "outlinewidth": 0,
                          "ticks": ""
                        },
                        "colorscale": [
                          [
                            0,
                            "#0d0887"
                          ],
                          [
                            0.1111111111111111,
                            "#46039f"
                          ],
                          [
                            0.2222222222222222,
                            "#7201a8"
                          ],
                          [
                            0.3333333333333333,
                            "#9c179e"
                          ],
                          [
                            0.4444444444444444,
                            "#bd3786"
                          ],
                          [
                            0.5555555555555556,
                            "#d8576b"
                          ],
                          [
                            0.6666666666666666,
                            "#ed7953"
                          ],
                          [
                            0.7777777777777778,
                            "#fb9f3a"
                          ],
                          [
                            0.8888888888888888,
                            "#fdca26"
                          ],
                          [
                            1,
                            "#f0f921"
                          ]
                        ],
                        "type": "contour"
                      }
                    ],
                    "contourcarpet": [
                      {
                        "colorbar": {
                          "outlinewidth": 0,
                          "ticks": ""
                        },
                        "type": "contourcarpet"
                      }
                    ],
                    "heatmap": [
                      {
                        "colorbar": {
                          "outlinewidth": 0,
                          "ticks": ""
                        },
                        "colorscale": [
                          [
                            0,
                            "#0d0887"
                          ],
                          [
                            0.1111111111111111,
                            "#46039f"
                          ],
                          [
                            0.2222222222222222,
                            "#7201a8"
                          ],
                          [
                            0.3333333333333333,
                            "#9c179e"
                          ],
                          [
                            0.4444444444444444,
                            "#bd3786"
                          ],
                          [
                            0.5555555555555556,
                            "#d8576b"
                          ],
                          [
                            0.6666666666666666,
                            "#ed7953"
                          ],
                          [
                            0.7777777777777778,
                            "#fb9f3a"
                          ],
                          [
                            0.8888888888888888,
                            "#fdca26"
                          ],
                          [
                            1,
                            "#f0f921"
                          ]
                        ],
                        "type": "heatmap"
                      }
                    ],
                    "heatmapgl": [
                      {
                        "colorbar": {
                          "outlinewidth": 0,
                          "ticks": ""
                        },
                        "colorscale": [
                          [
                            0,
                            "#0d0887"
                          ],
                          [
                            0.1111111111111111,
                            "#46039f"
                          ],
                          [
                            0.2222222222222222,
                            "#7201a8"
                          ],
                          [
                            0.3333333333333333,
                            "#9c179e"
                          ],
                          [
                            0.4444444444444444,
                            "#bd3786"
                          ],
                          [
                            0.5555555555555556,
                            "#d8576b"
                          ],
                          [
                            0.6666666666666666,
                            "#ed7953"
                          ],
                          [
                            0.7777777777777778,
                            "#fb9f3a"
                          ],
                          [
                            0.8888888888888888,
                            "#fdca26"
                          ],
                          [
                            1,
                            "#f0f921"
                          ]
                        ],
                        "type": "heatmapgl"
                      }
                    ],
                    "histogram": [
                      {
                        "marker": {
                          "pattern": {
                            "fillmode": "overlay",
                            "size": 10,
                            "solidity": 0.2
                          }
                        },
                        "type": "histogram"
                      }
                    ],
                    "histogram2d": [
                      {
                        "colorbar": {
                          "outlinewidth": 0,
                          "ticks": ""
                        },
                        "colorscale": [
                          [
                            0,
                            "#0d0887"
                          ],
                          [
                            0.1111111111111111,
                            "#46039f"
                          ],
                          [
                            0.2222222222222222,
                            "#7201a8"
                          ],
                          [
                            0.3333333333333333,
                            "#9c179e"
                          ],
                          [
                            0.4444444444444444,
                            "#bd3786"
                          ],
                          [
                            0.5555555555555556,
                            "#d8576b"
                          ],
                          [
                            0.6666666666666666,
                            "#ed7953"
                          ],
                          [
                            0.7777777777777778,
                            "#fb9f3a"
                          ],
                          [
                            0.8888888888888888,
                            "#fdca26"
                          ],
                          [
                            1,
                            "#f0f921"
                          ]
                        ],
                        "type": "histogram2d"
                      }
                    ],
                    "histogram2dcontour": [
                      {
                        "colorbar": {
                          "outlinewidth": 0,
                          "ticks": ""
                        },
                        "colorscale": [
                          [
                            0,
                            "#0d0887"
                          ],
                          [
                            0.1111111111111111,
                            "#46039f"
                          ],
                          [
                            0.2222222222222222,
                            "#7201a8"
                          ],
                          [
                            0.3333333333333333,
                            "#9c179e"
                          ],
                          [
                            0.4444444444444444,
                            "#bd3786"
                          ],
                          [
                            0.5555555555555556,
                            "#d8576b"
                          ],
                          [
                            0.6666666666666666,
                            "#ed7953"
                          ],
                          [
                            0.7777777777777778,
                            "#fb9f3a"
                          ],
                          [
                            0.8888888888888888,
                            "#fdca26"
                          ],
                          [
                            1,
                            "#f0f921"
                          ]
                        ],
                        "type": "histogram2dcontour"
                      }
                    ],
                    "mesh3d": [
                      {
                        "colorbar": {
                          "outlinewidth": 0,
                          "ticks": ""
                        },
                        "type": "mesh3d"
                      }
                    ],
                    "parcoords": [
                      {
                        "line": {
                          "colorbar": {
                            "outlinewidth": 0,
                            "ticks": ""
                          }
                        },
                        "type": "parcoords"
                      }
                    ],
                    "pie": [
                      {
                        "automargin": true,
                        "type": "pie"
                      }
                    ],
                    "scatter": [
                      {
                        "fillpattern": {
                          "fillmode": "overlay",
                          "size": 10,
                          "solidity": 0.2
                        },
                        "type": "scatter"
                      }
                    ],
                    "scatter3d": [
                      {
                        "line": {
                          "colorbar": {
                            "outlinewidth": 0,
                            "ticks": ""
                          }
                        },
                        "marker": {
                          "colorbar": {
                            "outlinewidth": 0,
                            "ticks": ""
                          }
                        },
                        "type": "scatter3d"
                      }
                    ],
                    "scattercarpet": [
                      {
                        "marker": {
                          "colorbar": {
                            "outlinewidth": 0,
                            "ticks": ""
                          }
                        },
                        "type": "scattercarpet"
                      }
                    ],
                    "scattergeo": [
                      {
                        "marker": {
                          "colorbar": {
                            "outlinewidth": 0,
                            "ticks": ""
                          }
                        },
                        "type": "scattergeo"
                      }
                    ],
                    "scattergl": [
                      {
                        "marker": {
                          "colorbar": {
                            "outlinewidth": 0,
                            "ticks": ""
                          }
                        },
                        "type": "scattergl"
                      }
                    ],
                    "scattermapbox": [
                      {
                        "marker": {
                          "colorbar": {
                            "outlinewidth": 0,
                            "ticks": ""
                          }
                        },
                        "type": "scattermapbox"
                      }
                    ],
                    "scatterpolar": [
                      {
                        "marker": {
                          "colorbar": {
                            "outlinewidth": 0,
                            "ticks": ""
                          }
                        },
                        "type": "scatterpolar"
                      }
                    ],
                    "scatterpolargl": [
                      {
                        "marker": {
                          "colorbar": {
                            "outlinewidth": 0,
                            "ticks": ""
                          }
                        },
                        "type": "scatterpolargl"
                      }
                    ],
                    "scatterternary": [
                      {
                        "marker": {
                          "colorbar": {
                            "outlinewidth": 0,
                            "ticks": ""
                          }
                        },
                        "type": "scatterternary"
                      }
                    ],
                    "surface": [
                      {
                        "colorbar": {
                          "outlinewidth": 0,
                          "ticks": ""
                        },
                        "colorscale": [
                          [
                            0,
                            "#0d0887"
                          ],
                          [
                            0.1111111111111111,
                            "#46039f"
                          ],
                          [
                            0.2222222222222222,
                            "#7201a8"
                          ],
                          [
                            0.3333333333333333,
                            "#9c179e"
                          ],
                          [
                            0.4444444444444444,
                            "#bd3786"
                          ],
                          [
                            0.5555555555555556,
                            "#d8576b"
                          ],
                          [
                            0.6666666666666666,
                            "#ed7953"
                          ],
                          [
                            0.7777777777777778,
                            "#fb9f3a"
                          ],
                          [
                            0.8888888888888888,
                            "#fdca26"
                          ],
                          [
                            1,
                            "#f0f921"
                          ]
                        ],
                        "type": "surface"
                      }
                    ],
                    "table": [
                      {
                        "cells": {
                          "fill": {
                            "color": "#EBF0F8"
                          },
                          "line": {
                            "color": "white"
                          }
                        },
                        "header": {
                          "fill": {
                            "color": "#C8D4E3"
                          },
                          "line": {
                            "color": "white"
                          }
                        },
                        "type": "table"
                      }
                    ]
                  },
                  "layout": {
                    "annotationdefaults": {
                      "arrowcolor": "#2a3f5f",
                      "arrowhead": 0,
                      "arrowwidth": 1
                    },
                    "autotypenumbers": "strict",
                    "coloraxis": {
                      "colorbar": {
                        "outlinewidth": 0,
                        "ticks": ""
                      }
                    },
                    "colorscale": {
                      "diverging": [
                        [
                          0,
                          "#8e0152"
                        ],
                        [
                          0.1,
                          "#c51b7d"
                        ],
                        [
                          0.2,
                          "#de77ae"
                        ],
                        [
                          0.3,
                          "#f1b6da"
                        ],
                        [
                          0.4,
                          "#fde0ef"
                        ],
                        [
                          0.5,
                          "#f7f7f7"
                        ],
                        [
                          0.6,
                          "#e6f5d0"
                        ],
                        [
                          0.7,
                          "#b8e186"
                        ],
                        [
                          0.8,
                          "#7fbc41"
                        ],
                        [
                          0.9,
                          "#4d9221"
                        ],
                        [
                          1,
                          "#276419"
                        ]
                      ],
                      "sequential": [
                        [
                          0,
                          "#0d0887"
                        ],
                        [
                          0.1111111111111111,
                          "#46039f"
                        ],
                        [
                          0.2222222222222222,
                          "#7201a8"
                        ],
                        [
                          0.3333333333333333,
                          "#9c179e"
                        ],
                        [
                          0.4444444444444444,
                          "#bd3786"
                        ],
                        [
                          0.5555555555555556,
                          "#d8576b"
                        ],
                        [
                          0.6666666666666666,
                          "#ed7953"
                        ],
                        [
                          0.7777777777777778,
                          "#fb9f3a"
                        ],
                        [
                          0.8888888888888888,
                          "#fdca26"
                        ],
                        [
                          1,
                          "#f0f921"
                        ]
                      ],
                      "sequentialminus": [
                        [
                          0,
                          "#0d0887"
                        ],
                        [
                          0.1111111111111111,
                          "#46039f"
                        ],
                        [
                          0.2222222222222222,
                          "#7201a8"
                        ],
                        [
                          0.3333333333333333,
                          "#9c179e"
                        ],
                        [
                          0.4444444444444444,
                          "#bd3786"
                        ],
                        [
                          0.5555555555555556,
                          "#d8576b"
                        ],
                        [
                          0.6666666666666666,
                          "#ed7953"
                        ],
                        [
                          0.7777777777777778,
                          "#fb9f3a"
                        ],
                        [
                          0.8888888888888888,
                          "#fdca26"
                        ],
                        [
                          1,
                          "#f0f921"
                        ]
                      ]
                    },
                    "colorway": [
                      "#636efa",
                      "#EF553B",
                      "#00cc96",
                      "#ab63fa",
                      "#FFA15A",
                      "#19d3f3",
                      "#FF6692",
                      "#B6E880",
                      "#FF97FF",
                      "#FECB52"
                    ],
                    "font": {
                      "color": "#2a3f5f"
                    },
                    "geo": {
                      "bgcolor": "white",
                      "lakecolor": "white",
                      "landcolor": "#E5ECF6",
                      "showlakes": true,
                      "showland": true,
                      "subunitcolor": "white"
                    },
                    "hoverlabel": {
                      "align": "left"
                    },
                    "hovermode": "closest",
                    "mapbox": {
                      "style": "light"
                    },
                    "paper_bgcolor": "white",
                    "plot_bgcolor": "#E5ECF6",
                    "polar": {
                      "angularaxis": {
                        "gridcolor": "white",
                        "linecolor": "white",
                        "ticks": ""
                      },
                      "bgcolor": "#E5ECF6",
                      "radialaxis": {
                        "gridcolor": "white",
                        "linecolor": "white",
                        "ticks": ""
                      }
                    },
                    "scene": {
                      "xaxis": {
                        "backgroundcolor": "#E5ECF6",
                        "gridcolor": "white",
                        "gridwidth": 2,
                        "linecolor": "white",
                        "showbackground": true,
                        "ticks": "",
                        "zerolinecolor": "white"
                      },
                      "yaxis": {
                        "backgroundcolor": "#E5ECF6",
                        "gridcolor": "white",
                        "gridwidth": 2,
                        "linecolor": "white",
                        "showbackground": true,
                        "ticks": "",
                        "zerolinecolor": "white"
                      },
                      "zaxis": {
                        "backgroundcolor": "#E5ECF6",
                        "gridcolor": "white",
                        "gridwidth": 2,
                        "linecolor": "white",
                        "showbackground": true,
                        "ticks": "",
                        "zerolinecolor": "white"
                      }
                    },
                    "shapedefaults": {
                      "line": {
                        "color": "#2a3f5f"
                      }
                    },
                    "ternary": {
                      "aaxis": {
                        "gridcolor": "white",
                        "linecolor": "white",
                        "ticks": ""
                      },
                      "baxis": {
                        "gridcolor": "white",
                        "linecolor": "white",
                        "ticks": ""
                      },
                      "bgcolor": "#E5ECF6",
                      "caxis": {
                        "gridcolor": "white",
                        "linecolor": "white",
                        "ticks": ""
                      }
                    },
                    "title": {
                      "x": 0.05
                    },
                    "xaxis": {
                      "automargin": true,
                      "gridcolor": "white",
                      "linecolor": "white",
                      "ticks": "",
                      "title": {
                        "standoff": 15
                      },
                      "zerolinecolor": "white",
                      "zerolinewidth": 2
                    },
                    "yaxis": {
                      "automargin": true,
                      "gridcolor": "white",
                      "linecolor": "white",
                      "ticks": "",
                      "title": {
                        "standoff": 15
                      },
                      "zerolinecolor": "white",
                      "zerolinewidth": 2
                    }
                  }
                },
                "title": {
                  "text": "Type Distribution"
                },
                "xaxis": {
                  "anchor": "y",
                  "categoryarray": [
                    "benign",
                    "defacement",
                    "phishing",
                    "malware"
                  ],
                  "categoryorder": "array",
                  "domain": [
                    0,
                    1
                  ],
                  "title": {
                    "text": "Type"
                  }
                },
                "yaxis": {
                  "anchor": "x",
                  "domain": [
                    0,
                    1
                  ],
                  "title": {
                    "text": "Count"
                  }
                }
              }
            }
          },
          "metadata": {},
          "output_type": "display_data"
        }
      ],
      "source": [
        "type_counts = data['type'].value_counts().reset_index()\n",
        "type_counts.columns = ['type', 'count']\n",
        "\n",
        "fig = px.bar(\n",
        "    type_counts,\n",
        "    x='type',\n",
        "    y='count',\n",
        "    title='Type Distribution',\n",
        "    labels={'type': 'Type', 'count': 'Count'},\n",
        "    color='type',\n",
        "    color_discrete_map={\n",
        "        'benign': 'green',\n",
        "        'phishing': 'orange',\n",
        "        'defacement': 'brown',\n",
        "        'malware': 'red'\n",
        "    }\n",
        ")\n",
        "fig.show()"
      ]
    },
    {
      "cell_type": "code",
      "execution_count": null,
      "id": "002c3836",
      "metadata": {
        "colab": {
          "base_uri": "https://localhost:8080/"
        },
        "id": "002c3836",
        "outputId": "a650f296-c2c4-4849-b3e7-c015ecca2ae8"
      },
      "outputs": [
        {
          "data": {
            "text/plain": [
              "651191"
            ]
          },
          "execution_count": 9,
          "metadata": {},
          "output_type": "execute_result"
        }
      ],
      "source": [
        "data.shape[0]"
      ]
    },
    {
      "cell_type": "markdown",
      "id": "d9ea30c5",
      "metadata": {
        "id": "d9ea30c5"
      },
      "source": [
        "## Label Encoding"
      ]
    },
    {
      "cell_type": "code",
      "execution_count": null,
      "id": "5e11518a",
      "metadata": {
        "id": "5e11518a"
      },
      "outputs": [],
      "source": [
        "label_mapping = {\"benign\": 0, \"phishing\": 1, \"defacement\": 2, \"malware\" : 3}\n",
        "data['label'] = data['type'].map(label_mapping)"
      ]
    },
    {
      "cell_type": "code",
      "execution_count": null,
      "id": "fdeee964",
      "metadata": {
        "colab": {
          "base_uri": "https://localhost:8080/",
          "height": 458
        },
        "id": "fdeee964",
        "outputId": "981f6467-eac7-4ae8-95a4-d7b78fe9fb22"
      },
      "outputs": [
        {
          "data": {
            "text/html": [
              "<div>\n",
              "<style scoped>\n",
              "    .dataframe tbody tr th:only-of-type {\n",
              "        vertical-align: middle;\n",
              "    }\n",
              "\n",
              "    .dataframe tbody tr th {\n",
              "        vertical-align: top;\n",
              "    }\n",
              "\n",
              "    .dataframe thead th {\n",
              "        text-align: right;\n",
              "    }\n",
              "</style>\n",
              "<table border=\"1\" class=\"dataframe\">\n",
              "  <thead>\n",
              "    <tr style=\"text-align: right;\">\n",
              "      <th></th>\n",
              "      <th>label</th>\n",
              "    </tr>\n",
              "  </thead>\n",
              "  <tbody>\n",
              "    <tr>\n",
              "      <th>0</th>\n",
              "      <td>1</td>\n",
              "    </tr>\n",
              "    <tr>\n",
              "      <th>1</th>\n",
              "      <td>0</td>\n",
              "    </tr>\n",
              "    <tr>\n",
              "      <th>2</th>\n",
              "      <td>0</td>\n",
              "    </tr>\n",
              "    <tr>\n",
              "      <th>3</th>\n",
              "      <td>2</td>\n",
              "    </tr>\n",
              "    <tr>\n",
              "      <th>4</th>\n",
              "      <td>2</td>\n",
              "    </tr>\n",
              "    <tr>\n",
              "      <th>...</th>\n",
              "      <td>...</td>\n",
              "    </tr>\n",
              "    <tr>\n",
              "      <th>651186</th>\n",
              "      <td>1</td>\n",
              "    </tr>\n",
              "    <tr>\n",
              "      <th>651187</th>\n",
              "      <td>1</td>\n",
              "    </tr>\n",
              "    <tr>\n",
              "      <th>651188</th>\n",
              "      <td>1</td>\n",
              "    </tr>\n",
              "    <tr>\n",
              "      <th>651189</th>\n",
              "      <td>1</td>\n",
              "    </tr>\n",
              "    <tr>\n",
              "      <th>651190</th>\n",
              "      <td>1</td>\n",
              "    </tr>\n",
              "  </tbody>\n",
              "</table>\n",
              "<p>651191 rows × 1 columns</p>\n",
              "</div><br><label><b>dtype:</b> int64</label>"
            ],
            "text/plain": [
              "0         1\n",
              "1         0\n",
              "2         0\n",
              "3         2\n",
              "4         2\n",
              "         ..\n",
              "651186    1\n",
              "651187    1\n",
              "651188    1\n",
              "651189    1\n",
              "651190    1\n",
              "Name: label, Length: 651191, dtype: int64"
            ]
          },
          "execution_count": 11,
          "metadata": {},
          "output_type": "execute_result"
        }
      ],
      "source": [
        "data['label']"
      ]
    },
    {
      "cell_type": "code",
      "execution_count": null,
      "id": "bfc4406b",
      "metadata": {
        "colab": {
          "base_uri": "https://localhost:8080/"
        },
        "id": "bfc4406b",
        "outputId": "982080f2-cfdd-460a-e9fb-d9465fcab8c1"
      },
      "outputs": [
        {
          "name": "stdout",
          "output_type": "stream",
          "text": [
            "['login', 'admin', 'download', 'upload', 'register', 'profile', 'search', 'checkout', 'cart', 'html', 'php', 'jpg', 'css', 'png', 'js', 'min', 'exe', 'purchase', 'order', 'payment', 'contact', 'about', 'contactus', 'product', 'news', 'blog', 'article', 'faq', 'support', 'subscribe', 'unsubscribe', 'newsletter', 'terms', 'privacy', 'policy', 'cookie', 'error', '404', '403', '500', 'confirm', 'verify', 'reset', 'password', 'confirmation', 'notification', 'account', 'user', 'signup', 'signin', 'logout', 'feedback', 'feedbackform', 'feedbacksurvey', 'survey', 'rating', 'review', 'comment', 'contactinfo', 'contactdetails', 'contactform', 'contactusform', 'contactinfo', 'contactinformation', 'contactusinfo', 'contactusinformation', 'contactusdetails', 'contactuspage', 'contactuscontact', 'contactuscontactinfo', 'contactuscontactinformation', 'contactuscontactdetails', 'contactuscontactus', 'contactuscontactusinfo', 'contactuscontactusinformation', 'contactuscontactusdetails', 'contactuscontactuspage', 'contactuscontactuscontact', 'contactuscontactuscontactinfo', 'contactuscontactuscontactinformation', 'contactuscontactuscontactdetails', 'contactuscontactuscontactus', 'contactuscontactuscontactusinfo', 'contactuscontactuscontactusinformation']\n"
          ]
        }
      ],
      "source": [
        "common_keywords = np.loadtxt('common_keywords.txt', dtype=str).tolist()\n",
        "print(common_keywords)\n"
      ]
    },
    {
      "cell_type": "code",
      "execution_count": null,
      "id": "59ef3197",
      "metadata": {
        "id": "59ef3197"
      },
      "outputs": [],
      "source": [
        "def extract_url_features(url, words_list):\n",
        "    parsed_url = urlparse(url)\n",
        "\n",
        "    # Domain Features\n",
        "    domain = parsed_url.netloc\n",
        "    domain_length = len(domain)\n",
        "    num_subdomains = domain.count('.')\n",
        "    has_hyphen = '-' in domain\n",
        "\n",
        "    # Path Features\n",
        "    path = parsed_url.path\n",
        "    path_length = len(path)\n",
        "    num_path_segments = path.count('/')\n",
        "\n",
        "    # Top-Level Domain (TLD) Features\n",
        "    tld_info = tldextract.extract(domain)\n",
        "    tld = tld_info.suffix\n",
        "    tld_length = len(tld)\n",
        "    subdomain = tld_info.subdomain\n",
        "\n",
        "    # Protocol Features\n",
        "    protocol = parsed_url.scheme\n",
        "    is_https = protocol == 'https'\n",
        "\n",
        "    # Query Parameters Features\n",
        "    query_params = parsed_url.query\n",
        "    num_query_params = len(query_params.split('&'))\n",
        "\n",
        "    char_features = list(\"ABCDEFGHIJKLMNOPQRSTUVWXYZabcdefghijklmnopqrstuvwxyz0123456789-_.~!*'()$&+,;=:/?#@[]{}|\\\\^\")\n",
        "    char_frequencies = {char: url.lower().count(char) for char in char_features}\n",
        "\n",
        "\n",
        "    keyword_counts = {keyword: url.lower().count(keyword) for keyword in words_list}\n",
        "\n",
        "    url_length = len(url)\n",
        "\n",
        "    has_redirect = '->' in url\n",
        "    has_shortened_url = re.search(r'bit\\.ly|t\\.co|ow\\.ly', url) is not None\n",
        "\n",
        "\n",
        "    feature_array = [\n",
        "        domain_length, num_subdomains, int(has_hyphen),\n",
        "        path_length, num_path_segments, tld_length,\n",
        "        int(is_https), num_query_params, url_length,\n",
        "        int(has_redirect), int(has_shortened_url)\n",
        "    ]\n",
        "\n",
        "    # Add character frequencies as features in a fixed order\n",
        "    feature_array.extend([char_frequencies[char] for char in char_features])\n",
        "\n",
        "    # Add keyword counts as features in a fixed order\n",
        "    feature_array.extend([keyword_counts[keyword] for keyword in words_list])\n",
        "\n",
        "    return feature_array\n",
        "\n",
        "dataWithFeatures = []\n",
        "\n",
        "for index, row in data.iterrows():\n",
        "    newRow = []\n",
        "    url = row['url']\n",
        "    label = row['label']\n",
        "\n",
        "    features = extract_url_features(url, common_keywords)\n",
        "\n",
        "\n",
        "    for feature in features:\n",
        "        newRow.append(feature)\n",
        "\n",
        "    newRow.append(label)\n",
        "\n",
        "    dataWithFeatures.append(newRow)\n",
        "\n",
        "data = pd.DataFrame(dataWithFeatures)"
      ]
    },
    {
      "cell_type": "code",
      "execution_count": null,
      "id": "5e4fe09f",
      "metadata": {
        "id": "5e4fe09f"
      },
      "outputs": [],
      "source": [
        "x = data.iloc[:, 0: -1 ]\n",
        "y = data.iloc[:, -1]\n",
        "\n",
        "x_train, x_val_test, y_train, y_val_test = train_test_split(x, y, test_size=0.20, random_state=42 , stratify=y)\n",
        "\n",
        "x_val, x_test, y_val, y_test = train_test_split(x_val_test, y_val_test, test_size=0.20, random_state=42 , stratify=y_val_test)"
      ]
    },
    {
      "cell_type": "code",
      "execution_count": null,
      "id": "0be87e3a",
      "metadata": {
        "id": "0be87e3a"
      },
      "outputs": [],
      "source": [
        "x_train = pd.DataFrame(x_train)\n",
        "x_test = pd.DataFrame(x_test)\n",
        "y_train = pd.DataFrame(y_train)\n",
        "y_test = pd.DataFrame(y_test)\n",
        "x_val = pd.DataFrame(x_val)\n",
        "y_val = pd.DataFrame(y_val)"
      ]
    },
    {
      "cell_type": "markdown",
      "id": "b5db65c8",
      "metadata": {
        "id": "b5db65c8"
      },
      "source": [
        "## Handling Imbalance"
      ]
    },
    {
      "cell_type": "code",
      "execution_count": null,
      "id": "6e614ce2",
      "metadata": {
        "id": "6e614ce2"
      },
      "outputs": [],
      "source": [
        "from imblearn.over_sampling import SMOTE\n",
        "\n",
        "smote = SMOTE(sampling_strategy= {3: 100000} , random_state=42 )"
      ]
    },
    {
      "cell_type": "code",
      "execution_count": null,
      "id": "df44d69b",
      "metadata": {
        "id": "df44d69b"
      },
      "outputs": [],
      "source": [
        "from imblearn.under_sampling import RandomUnderSampler\n",
        "\n",
        "# under = RandomUnderSampler(sampling_strategy={0: 150000} , random_state=42)"
      ]
    },
    {
      "cell_type": "code",
      "execution_count": null,
      "id": "24f91754",
      "metadata": {
        "id": "24f91754"
      },
      "outputs": [],
      "source": [
        "from imblearn.pipeline import Pipeline\n",
        "\n",
        "pipeline = Pipeline([\n",
        "    ('oversample', smote )\n",
        "   # ('undersample', under )\n",
        "])\n",
        "\n",
        "x_train , y_train = pipeline.fit_resample(x_train, y_train)"
      ]
    },
    {
      "cell_type": "code",
      "execution_count": null,
      "id": "8782bdf9",
      "metadata": {
        "colab": {
          "base_uri": "https://localhost:8080/",
          "height": 241
        },
        "id": "8782bdf9",
        "outputId": "1ee26deb-e614-45ae-c07b-516d4a4cb99b"
      },
      "outputs": [
        {
          "data": {
            "text/html": [
              "<div>\n",
              "<style scoped>\n",
              "    .dataframe tbody tr th:only-of-type {\n",
              "        vertical-align: middle;\n",
              "    }\n",
              "\n",
              "    .dataframe tbody tr th {\n",
              "        vertical-align: top;\n",
              "    }\n",
              "\n",
              "    .dataframe thead th {\n",
              "        text-align: right;\n",
              "    }\n",
              "</style>\n",
              "<table border=\"1\" class=\"dataframe\">\n",
              "  <thead>\n",
              "    <tr style=\"text-align: right;\">\n",
              "      <th></th>\n",
              "      <th>count</th>\n",
              "    </tr>\n",
              "    <tr>\n",
              "      <th>184</th>\n",
              "      <th></th>\n",
              "    </tr>\n",
              "  </thead>\n",
              "  <tbody>\n",
              "    <tr>\n",
              "      <th>0</th>\n",
              "      <td>342482</td>\n",
              "    </tr>\n",
              "    <tr>\n",
              "      <th>3</th>\n",
              "      <td>100000</td>\n",
              "    </tr>\n",
              "    <tr>\n",
              "      <th>2</th>\n",
              "      <td>77165</td>\n",
              "    </tr>\n",
              "    <tr>\n",
              "      <th>1</th>\n",
              "      <td>75289</td>\n",
              "    </tr>\n",
              "  </tbody>\n",
              "</table>\n",
              "</div><br><label><b>dtype:</b> int64</label>"
            ],
            "text/plain": [
              "184\n",
              "0      342482\n",
              "3      100000\n",
              "2       77165\n",
              "1       75289\n",
              "Name: count, dtype: int64"
            ]
          },
          "execution_count": 19,
          "metadata": {},
          "output_type": "execute_result"
        }
      ],
      "source": [
        "y_train.value_counts()"
      ]
    },
    {
      "cell_type": "markdown",
      "id": "ef20975f",
      "metadata": {
        "id": "ef20975f"
      },
      "source": [
        "## Normalising our data"
      ]
    },
    {
      "cell_type": "code",
      "execution_count": null,
      "id": "eb1cb7e7",
      "metadata": {
        "id": "eb1cb7e7"
      },
      "outputs": [],
      "source": [
        "from sklearn.preprocessing import StandardScaler\n",
        "scaler = StandardScaler()\n",
        "x_train = scaler.fit_transform(x_train)\n",
        "x_val = scaler.transform(x_val)\n",
        "x_test = scaler.transform(x_test)\n"
      ]
    },
    {
      "cell_type": "markdown",
      "id": "ea1bf150",
      "metadata": {
        "id": "ea1bf150"
      },
      "source": [
        "# ML Tree Ensemble Model"
      ]
    },
    {
      "cell_type": "code",
      "execution_count": null,
      "id": "610ff57e",
      "metadata": {
        "id": "610ff57e",
        "outputId": "09a0f641-dbaa-4846-fec1-e96a0e937a2e"
      },
      "outputs": [
        {
          "name": "stderr",
          "output_type": "stream",
          "text": [
            "[Parallel(n_jobs=-1)]: Using backend ThreadingBackend with 16 concurrent workers.\n",
            "[Parallel(n_jobs=-1)]: Done  18 tasks      | elapsed:   18.2s\n",
            "[Parallel(n_jobs=-1)]: Done 100 out of 100 | elapsed:   59.5s finished\n"
          ]
        },
        {
          "data": {
            "text/html": [
              "<style>#sk-container-id-4 {\n",
              "  /* Definition of color scheme common for light and dark mode */\n",
              "  --sklearn-color-text: black;\n",
              "  --sklearn-color-line: gray;\n",
              "  /* Definition of color scheme for unfitted estimators */\n",
              "  --sklearn-color-unfitted-level-0: #fff5e6;\n",
              "  --sklearn-color-unfitted-level-1: #f6e4d2;\n",
              "  --sklearn-color-unfitted-level-2: #ffe0b3;\n",
              "  --sklearn-color-unfitted-level-3: chocolate;\n",
              "  /* Definition of color scheme for fitted estimators */\n",
              "  --sklearn-color-fitted-level-0: #f0f8ff;\n",
              "  --sklearn-color-fitted-level-1: #d4ebff;\n",
              "  --sklearn-color-fitted-level-2: #b3dbfd;\n",
              "  --sklearn-color-fitted-level-3: cornflowerblue;\n",
              "\n",
              "  /* Specific color for light theme */\n",
              "  --sklearn-color-text-on-default-background: var(--sg-text-color, var(--theme-code-foreground, var(--jp-content-font-color1, black)));\n",
              "  --sklearn-color-background: var(--sg-background-color, var(--theme-background, var(--jp-layout-color0, white)));\n",
              "  --sklearn-color-border-box: var(--sg-text-color, var(--theme-code-foreground, var(--jp-content-font-color1, black)));\n",
              "  --sklearn-color-icon: #696969;\n",
              "\n",
              "  @media (prefers-color-scheme: dark) {\n",
              "    /* Redefinition of color scheme for dark theme */\n",
              "    --sklearn-color-text-on-default-background: var(--sg-text-color, var(--theme-code-foreground, var(--jp-content-font-color1, white)));\n",
              "    --sklearn-color-background: var(--sg-background-color, var(--theme-background, var(--jp-layout-color0, #111)));\n",
              "    --sklearn-color-border-box: var(--sg-text-color, var(--theme-code-foreground, var(--jp-content-font-color1, white)));\n",
              "    --sklearn-color-icon: #878787;\n",
              "  }\n",
              "}\n",
              "\n",
              "#sk-container-id-4 {\n",
              "  color: var(--sklearn-color-text);\n",
              "}\n",
              "\n",
              "#sk-container-id-4 pre {\n",
              "  padding: 0;\n",
              "}\n",
              "\n",
              "#sk-container-id-4 input.sk-hidden--visually {\n",
              "  border: 0;\n",
              "  clip: rect(1px 1px 1px 1px);\n",
              "  clip: rect(1px, 1px, 1px, 1px);\n",
              "  height: 1px;\n",
              "  margin: -1px;\n",
              "  overflow: hidden;\n",
              "  padding: 0;\n",
              "  position: absolute;\n",
              "  width: 1px;\n",
              "}\n",
              "\n",
              "#sk-container-id-4 div.sk-dashed-wrapped {\n",
              "  border: 1px dashed var(--sklearn-color-line);\n",
              "  margin: 0 0.4em 0.5em 0.4em;\n",
              "  box-sizing: border-box;\n",
              "  padding-bottom: 0.4em;\n",
              "  background-color: var(--sklearn-color-background);\n",
              "}\n",
              "\n",
              "#sk-container-id-4 div.sk-container {\n",
              "  /* jupyter's `normalize.less` sets `[hidden] { display: none; }`\n",
              "     but bootstrap.min.css set `[hidden] { display: none !important; }`\n",
              "     so we also need the `!important` here to be able to override the\n",
              "     default hidden behavior on the sphinx rendered scikit-learn.org.\n",
              "     See: https://github.com/scikit-learn/scikit-learn/issues/21755 */\n",
              "  display: inline-block !important;\n",
              "  position: relative;\n",
              "}\n",
              "\n",
              "#sk-container-id-4 div.sk-text-repr-fallback {\n",
              "  display: none;\n",
              "}\n",
              "\n",
              "div.sk-parallel-item,\n",
              "div.sk-serial,\n",
              "div.sk-item {\n",
              "  /* draw centered vertical line to link estimators */\n",
              "  background-image: linear-gradient(var(--sklearn-color-text-on-default-background), var(--sklearn-color-text-on-default-background));\n",
              "  background-size: 2px 100%;\n",
              "  background-repeat: no-repeat;\n",
              "  background-position: center center;\n",
              "}\n",
              "\n",
              "/* Parallel-specific style estimator block */\n",
              "\n",
              "#sk-container-id-4 div.sk-parallel-item::after {\n",
              "  content: \"\";\n",
              "  width: 100%;\n",
              "  border-bottom: 2px solid var(--sklearn-color-text-on-default-background);\n",
              "  flex-grow: 1;\n",
              "}\n",
              "\n",
              "#sk-container-id-4 div.sk-parallel {\n",
              "  display: flex;\n",
              "  align-items: stretch;\n",
              "  justify-content: center;\n",
              "  background-color: var(--sklearn-color-background);\n",
              "  position: relative;\n",
              "}\n",
              "\n",
              "#sk-container-id-4 div.sk-parallel-item {\n",
              "  display: flex;\n",
              "  flex-direction: column;\n",
              "}\n",
              "\n",
              "#sk-container-id-4 div.sk-parallel-item:first-child::after {\n",
              "  align-self: flex-end;\n",
              "  width: 50%;\n",
              "}\n",
              "\n",
              "#sk-container-id-4 div.sk-parallel-item:last-child::after {\n",
              "  align-self: flex-start;\n",
              "  width: 50%;\n",
              "}\n",
              "\n",
              "#sk-container-id-4 div.sk-parallel-item:only-child::after {\n",
              "  width: 0;\n",
              "}\n",
              "\n",
              "/* Serial-specific style estimator block */\n",
              "\n",
              "#sk-container-id-4 div.sk-serial {\n",
              "  display: flex;\n",
              "  flex-direction: column;\n",
              "  align-items: center;\n",
              "  background-color: var(--sklearn-color-background);\n",
              "  padding-right: 1em;\n",
              "  padding-left: 1em;\n",
              "}\n",
              "\n",
              "\n",
              "/* Toggleable style: style used for estimator/Pipeline/ColumnTransformer box that is\n",
              "clickable and can be expanded/collapsed.\n",
              "- Pipeline and ColumnTransformer use this feature and define the default style\n",
              "- Estimators will overwrite some part of the style using the `sk-estimator` class\n",
              "*/\n",
              "\n",
              "/* Pipeline and ColumnTransformer style (default) */\n",
              "\n",
              "#sk-container-id-4 div.sk-toggleable {\n",
              "  /* Default theme specific background. It is overwritten whether we have a\n",
              "  specific estimator or a Pipeline/ColumnTransformer */\n",
              "  background-color: var(--sklearn-color-background);\n",
              "}\n",
              "\n",
              "/* Toggleable label */\n",
              "#sk-container-id-4 label.sk-toggleable__label {\n",
              "  cursor: pointer;\n",
              "  display: block;\n",
              "  width: 100%;\n",
              "  margin-bottom: 0;\n",
              "  padding: 0.5em;\n",
              "  box-sizing: border-box;\n",
              "  text-align: center;\n",
              "}\n",
              "\n",
              "#sk-container-id-4 label.sk-toggleable__label-arrow:before {\n",
              "  /* Arrow on the left of the label */\n",
              "  content: \"▸\";\n",
              "  float: left;\n",
              "  margin-right: 0.25em;\n",
              "  color: var(--sklearn-color-icon);\n",
              "}\n",
              "\n",
              "#sk-container-id-4 label.sk-toggleable__label-arrow:hover:before {\n",
              "  color: var(--sklearn-color-text);\n",
              "}\n",
              "\n",
              "/* Toggleable content - dropdown */\n",
              "\n",
              "#sk-container-id-4 div.sk-toggleable__content {\n",
              "  max-height: 0;\n",
              "  max-width: 0;\n",
              "  overflow: hidden;\n",
              "  text-align: left;\n",
              "  /* unfitted */\n",
              "  background-color: var(--sklearn-color-unfitted-level-0);\n",
              "}\n",
              "\n",
              "#sk-container-id-4 div.sk-toggleable__content.fitted {\n",
              "  /* fitted */\n",
              "  background-color: var(--sklearn-color-fitted-level-0);\n",
              "}\n",
              "\n",
              "#sk-container-id-4 div.sk-toggleable__content pre {\n",
              "  margin: 0.2em;\n",
              "  border-radius: 0.25em;\n",
              "  color: var(--sklearn-color-text);\n",
              "  /* unfitted */\n",
              "  background-color: var(--sklearn-color-unfitted-level-0);\n",
              "}\n",
              "\n",
              "#sk-container-id-4 div.sk-toggleable__content.fitted pre {\n",
              "  /* unfitted */\n",
              "  background-color: var(--sklearn-color-fitted-level-0);\n",
              "}\n",
              "\n",
              "#sk-container-id-4 input.sk-toggleable__control:checked~div.sk-toggleable__content {\n",
              "  /* Expand drop-down */\n",
              "  max-height: 200px;\n",
              "  max-width: 100%;\n",
              "  overflow: auto;\n",
              "}\n",
              "\n",
              "#sk-container-id-4 input.sk-toggleable__control:checked~label.sk-toggleable__label-arrow:before {\n",
              "  content: \"▾\";\n",
              "}\n",
              "\n",
              "/* Pipeline/ColumnTransformer-specific style */\n",
              "\n",
              "#sk-container-id-4 div.sk-label input.sk-toggleable__control:checked~label.sk-toggleable__label {\n",
              "  color: var(--sklearn-color-text);\n",
              "  background-color: var(--sklearn-color-unfitted-level-2);\n",
              "}\n",
              "\n",
              "#sk-container-id-4 div.sk-label.fitted input.sk-toggleable__control:checked~label.sk-toggleable__label {\n",
              "  background-color: var(--sklearn-color-fitted-level-2);\n",
              "}\n",
              "\n",
              "/* Estimator-specific style */\n",
              "\n",
              "/* Colorize estimator box */\n",
              "#sk-container-id-4 div.sk-estimator input.sk-toggleable__control:checked~label.sk-toggleable__label {\n",
              "  /* unfitted */\n",
              "  background-color: var(--sklearn-color-unfitted-level-2);\n",
              "}\n",
              "\n",
              "#sk-container-id-4 div.sk-estimator.fitted input.sk-toggleable__control:checked~label.sk-toggleable__label {\n",
              "  /* fitted */\n",
              "  background-color: var(--sklearn-color-fitted-level-2);\n",
              "}\n",
              "\n",
              "#sk-container-id-4 div.sk-label label.sk-toggleable__label,\n",
              "#sk-container-id-4 div.sk-label label {\n",
              "  /* The background is the default theme color */\n",
              "  color: var(--sklearn-color-text-on-default-background);\n",
              "}\n",
              "\n",
              "/* On hover, darken the color of the background */\n",
              "#sk-container-id-4 div.sk-label:hover label.sk-toggleable__label {\n",
              "  color: var(--sklearn-color-text);\n",
              "  background-color: var(--sklearn-color-unfitted-level-2);\n",
              "}\n",
              "\n",
              "/* Label box, darken color on hover, fitted */\n",
              "#sk-container-id-4 div.sk-label.fitted:hover label.sk-toggleable__label.fitted {\n",
              "  color: var(--sklearn-color-text);\n",
              "  background-color: var(--sklearn-color-fitted-level-2);\n",
              "}\n",
              "\n",
              "/* Estimator label */\n",
              "\n",
              "#sk-container-id-4 div.sk-label label {\n",
              "  font-family: monospace;\n",
              "  font-weight: bold;\n",
              "  display: inline-block;\n",
              "  line-height: 1.2em;\n",
              "}\n",
              "\n",
              "#sk-container-id-4 div.sk-label-container {\n",
              "  text-align: center;\n",
              "}\n",
              "\n",
              "/* Estimator-specific */\n",
              "#sk-container-id-4 div.sk-estimator {\n",
              "  font-family: monospace;\n",
              "  border: 1px dotted var(--sklearn-color-border-box);\n",
              "  border-radius: 0.25em;\n",
              "  box-sizing: border-box;\n",
              "  margin-bottom: 0.5em;\n",
              "  /* unfitted */\n",
              "  background-color: var(--sklearn-color-unfitted-level-0);\n",
              "}\n",
              "\n",
              "#sk-container-id-4 div.sk-estimator.fitted {\n",
              "  /* fitted */\n",
              "  background-color: var(--sklearn-color-fitted-level-0);\n",
              "}\n",
              "\n",
              "/* on hover */\n",
              "#sk-container-id-4 div.sk-estimator:hover {\n",
              "  /* unfitted */\n",
              "  background-color: var(--sklearn-color-unfitted-level-2);\n",
              "}\n",
              "\n",
              "#sk-container-id-4 div.sk-estimator.fitted:hover {\n",
              "  /* fitted */\n",
              "  background-color: var(--sklearn-color-fitted-level-2);\n",
              "}\n",
              "\n",
              "/* Specification for estimator info (e.g. \"i\" and \"?\") */\n",
              "\n",
              "/* Common style for \"i\" and \"?\" */\n",
              "\n",
              ".sk-estimator-doc-link,\n",
              "a:link.sk-estimator-doc-link,\n",
              "a:visited.sk-estimator-doc-link {\n",
              "  float: right;\n",
              "  font-size: smaller;\n",
              "  line-height: 1em;\n",
              "  font-family: monospace;\n",
              "  background-color: var(--sklearn-color-background);\n",
              "  border-radius: 1em;\n",
              "  height: 1em;\n",
              "  width: 1em;\n",
              "  text-decoration: none !important;\n",
              "  margin-left: 1ex;\n",
              "  /* unfitted */\n",
              "  border: var(--sklearn-color-unfitted-level-1) 1pt solid;\n",
              "  color: var(--sklearn-color-unfitted-level-1);\n",
              "}\n",
              "\n",
              ".sk-estimator-doc-link.fitted,\n",
              "a:link.sk-estimator-doc-link.fitted,\n",
              "a:visited.sk-estimator-doc-link.fitted {\n",
              "  /* fitted */\n",
              "  border: var(--sklearn-color-fitted-level-1) 1pt solid;\n",
              "  color: var(--sklearn-color-fitted-level-1);\n",
              "}\n",
              "\n",
              "/* On hover */\n",
              "div.sk-estimator:hover .sk-estimator-doc-link:hover,\n",
              ".sk-estimator-doc-link:hover,\n",
              "div.sk-label-container:hover .sk-estimator-doc-link:hover,\n",
              ".sk-estimator-doc-link:hover {\n",
              "  /* unfitted */\n",
              "  background-color: var(--sklearn-color-unfitted-level-3);\n",
              "  color: var(--sklearn-color-background);\n",
              "  text-decoration: none;\n",
              "}\n",
              "\n",
              "div.sk-estimator.fitted:hover .sk-estimator-doc-link.fitted:hover,\n",
              ".sk-estimator-doc-link.fitted:hover,\n",
              "div.sk-label-container:hover .sk-estimator-doc-link.fitted:hover,\n",
              ".sk-estimator-doc-link.fitted:hover {\n",
              "  /* fitted */\n",
              "  background-color: var(--sklearn-color-fitted-level-3);\n",
              "  color: var(--sklearn-color-background);\n",
              "  text-decoration: none;\n",
              "}\n",
              "\n",
              "/* Span, style for the box shown on hovering the info icon */\n",
              ".sk-estimator-doc-link span {\n",
              "  display: none;\n",
              "  z-index: 9999;\n",
              "  position: relative;\n",
              "  font-weight: normal;\n",
              "  right: .2ex;\n",
              "  padding: .5ex;\n",
              "  margin: .5ex;\n",
              "  width: min-content;\n",
              "  min-width: 20ex;\n",
              "  max-width: 50ex;\n",
              "  color: var(--sklearn-color-text);\n",
              "  box-shadow: 2pt 2pt 4pt #999;\n",
              "  /* unfitted */\n",
              "  background: var(--sklearn-color-unfitted-level-0);\n",
              "  border: .5pt solid var(--sklearn-color-unfitted-level-3);\n",
              "}\n",
              "\n",
              ".sk-estimator-doc-link.fitted span {\n",
              "  /* fitted */\n",
              "  background: var(--sklearn-color-fitted-level-0);\n",
              "  border: var(--sklearn-color-fitted-level-3);\n",
              "}\n",
              "\n",
              ".sk-estimator-doc-link:hover span {\n",
              "  display: block;\n",
              "}\n",
              "\n",
              "/* \"?\"-specific style due to the `<a>` HTML tag */\n",
              "\n",
              "#sk-container-id-4 a.estimator_doc_link {\n",
              "  float: right;\n",
              "  font-size: 1rem;\n",
              "  line-height: 1em;\n",
              "  font-family: monospace;\n",
              "  background-color: var(--sklearn-color-background);\n",
              "  border-radius: 1rem;\n",
              "  height: 1rem;\n",
              "  width: 1rem;\n",
              "  text-decoration: none;\n",
              "  /* unfitted */\n",
              "  color: var(--sklearn-color-unfitted-level-1);\n",
              "  border: var(--sklearn-color-unfitted-level-1) 1pt solid;\n",
              "}\n",
              "\n",
              "#sk-container-id-4 a.estimator_doc_link.fitted {\n",
              "  /* fitted */\n",
              "  border: var(--sklearn-color-fitted-level-1) 1pt solid;\n",
              "  color: var(--sklearn-color-fitted-level-1);\n",
              "}\n",
              "\n",
              "/* On hover */\n",
              "#sk-container-id-4 a.estimator_doc_link:hover {\n",
              "  /* unfitted */\n",
              "  background-color: var(--sklearn-color-unfitted-level-3);\n",
              "  color: var(--sklearn-color-background);\n",
              "  text-decoration: none;\n",
              "}\n",
              "\n",
              "#sk-container-id-4 a.estimator_doc_link.fitted:hover {\n",
              "  /* fitted */\n",
              "  background-color: var(--sklearn-color-fitted-level-3);\n",
              "}\n",
              "</style><div id=\"sk-container-id-4\" class=\"sk-top-container\"><div class=\"sk-text-repr-fallback\"><pre>ExtraTreesClassifier(class_weight=&#x27;balanced&#x27;, n_jobs=-1, random_state=42,\n",
              "                     verbose=1)</pre><b>In a Jupyter environment, please rerun this cell to show the HTML representation or trust the notebook. <br />On GitHub, the HTML representation is unable to render, please try loading this page with nbviewer.org.</b></div><div class=\"sk-container\" hidden><div class=\"sk-item\"><div class=\"sk-estimator fitted sk-toggleable\"><input class=\"sk-toggleable__control sk-hidden--visually\" id=\"sk-estimator-id-4\" type=\"checkbox\" checked><label for=\"sk-estimator-id-4\" class=\"sk-toggleable__label fitted sk-toggleable__label-arrow fitted\">&nbsp;&nbsp;ExtraTreesClassifier<a class=\"sk-estimator-doc-link fitted\" rel=\"noreferrer\" target=\"_blank\" href=\"https://scikit-learn.org/1.5/modules/generated/sklearn.ensemble.ExtraTreesClassifier.html\">?<span>Documentation for ExtraTreesClassifier</span></a><span class=\"sk-estimator-doc-link fitted\">i<span>Fitted</span></span></label><div class=\"sk-toggleable__content fitted\"><pre>ExtraTreesClassifier(class_weight=&#x27;balanced&#x27;, n_jobs=-1, random_state=42,\n",
              "                     verbose=1)</pre></div> </div></div></div></div>"
            ],
            "text/plain": [
              "ExtraTreesClassifier(class_weight='balanced', n_jobs=-1, random_state=42,\n",
              "                     verbose=1)"
            ]
          },
          "execution_count": 187,
          "metadata": {},
          "output_type": "execute_result"
        }
      ],
      "source": [
        "clf = ExtraTreesClassifier(n_estimators=100, random_state=42, verbose=1 , class_weight='balanced', n_jobs=-1)\n",
        "\n",
        "clf.fit(x_train, np.array(y_train).reshape( -1, ) )"
      ]
    },
    {
      "cell_type": "code",
      "execution_count": null,
      "id": "caa86bbd",
      "metadata": {
        "id": "caa86bbd",
        "outputId": "749ec726-c006-431e-b63e-de50ae018d63"
      },
      "outputs": [
        {
          "name": "stderr",
          "output_type": "stream",
          "text": [
            "[Parallel(n_jobs=16)]: Using backend ThreadingBackend with 16 concurrent workers.\n",
            "[Parallel(n_jobs=16)]: Done  18 tasks      | elapsed:    0.0s\n"
          ]
        },
        {
          "name": "stdout",
          "output_type": "stream",
          "text": [
            "Accuracy: 0.97\n"
          ]
        },
        {
          "name": "stderr",
          "output_type": "stream",
          "text": [
            "[Parallel(n_jobs=16)]: Done 100 out of 100 | elapsed:    0.1s finished\n"
          ]
        }
      ],
      "source": [
        "y_pred = clf.predict(x_test)\n",
        "\n",
        "\n",
        "accuracy = accuracy_score(y_test, y_pred)\n",
        "print(f'Accuracy: {accuracy:.2f}')"
      ]
    },
    {
      "cell_type": "code",
      "execution_count": null,
      "id": "4f1f48eb",
      "metadata": {
        "id": "4f1f48eb"
      },
      "outputs": [],
      "source": [
        "def model_evalutation( y_pred , model_name ) :\n",
        "\n",
        "  labels = list(label_mapping.keys())\n",
        "  cm = confusion_matrix(y_test, y_pred  )\n",
        "\n",
        "  plt.figure(figsize=(10,8))\n",
        "  sns.heatmap(cm, annot=True, fmt='d', cmap='Blues',\n",
        "            xticklabels=labels, yticklabels=labels)\n",
        "  plt.xlabel('Predicted')\n",
        "  plt.ylabel('True')\n",
        "  plt.title('Confusion Matrix')\n",
        "  plt.show()\n",
        "\n",
        "\n",
        "  report = classification_report( y_test , y_pred,  target_names=labels , output_dict = True )\n",
        "  df_report = pd.DataFrame(report).transpose()\n",
        "\n",
        "  df_plot = df_report.drop(columns=['support'], errors='ignore')\n",
        "\n",
        "  plt.figure(figsize=(10, 6))\n",
        "  sns.heatmap(df_plot, annot=True, cmap='YlGnBu', fmt='.2f', cbar=True)\n",
        "  plt.title(f'Classification Report {model_name}', fontsize=14)\n",
        "  plt.xticks(rotation=45)\n",
        "  plt.yticks(rotation=0)\n",
        "\n",
        "  plt.tight_layout()\n",
        "  plt.show()\n"
      ]
    },
    {
      "cell_type": "code",
      "execution_count": null,
      "id": "201d3c49",
      "metadata": {
        "id": "201d3c49",
        "outputId": "e84a8553-c88b-40d3-e333-e3277fe2343f"
      },
      "outputs": [
        {
          "data": {
            "image/png": "[encoded data removed]",
            "text/plain": [
              "<Figure size 1000x800 with 2 Axes>"
            ]
          },
          "metadata": {},
          "output_type": "display_data"
        },
        {
          "data": {
            "image/png": "[encoded data removed]",
            "text/plain": [
              "<Figure size 1000x600 with 2 Axes>"
            ]
          },
          "metadata": {},
          "output_type": "display_data"
        }
      ],
      "source": [
        "model_evalutation( y_pred , 'Extra Trees Classifier' )"
      ]
    },
    {
      "cell_type": "markdown",
      "id": "nLjII0sMXvjx",
      "metadata": {
        "id": "nLjII0sMXvjx"
      },
      "source": [
        "# Swarm Optimisation (Metaheuristic)"
      ]
    },
    {
      "cell_type": "code",
      "execution_count": null,
      "id": "Iv7EvCFqXvFW",
      "metadata": {
        "id": "Iv7EvCFqXvFW"
      },
      "outputs": [],
      "source": [
        "from sklearn.ensemble import ExtraTreesClassifier\n",
        "from sklearn.metrics import accuracy_score\n",
        "\n",
        "def objective_function(params):\n",
        "    n_estimators = int(params[0])\n",
        "    max_depth = int(params[1])\n",
        "    min_samples_split = int(params[2])\n",
        "\n",
        "    n_estimators = max(10, n_estimators)\n",
        "    max_depth = max(1, max_depth)\n",
        "    min_samples_split = max(2, min_samples_split)\n",
        "\n",
        "    model = ExtraTreesClassifier(\n",
        "        n_estimators=n_estimators,\n",
        "        max_depth=max_depth,\n",
        "        min_samples_split=min_samples_split,\n",
        "        random_state=42,\n",
        "        class_weight='balanced',\n",
        "        n_jobs=-1,\n",
        "        verbose=0\n",
        "    )\n",
        "\n",
        "    model.fit(x_train, np.ravel(y_train))\n",
        "    val_preds = model.predict(x_val)\n",
        "    acc = accuracy_score(np.ravel(y_val), val_preds)\n",
        "\n",
        "    return -acc"
      ]
    },
    {
      "cell_type": "code",
      "execution_count": null,
      "id": "KeVWP0lYX7-D",
      "metadata": {
        "id": "KeVWP0lYX7-D"
      },
      "outputs": [],
      "source": [
        "from pyswarms.single.global_best import GlobalBestPSO\n",
        "\n",
        "bounds = ([10, 2, 2], [100, 30, 20])  # n_estimators, max_depth, min_samples_split\n",
        "optimizer = GlobalBestPSO(n_particles=10, dimensions=3, options={'c1': 0.5, 'c2': 0.3, 'w': 0.9}, bounds=bounds)\n",
        "\n",
        "best_cost, best_params = optimizer.optimize(lambda x: np.array([objective_function(p) for p in x]), iters=20)\n",
        "\n",
        "print(\"Best Accuracy:\", -best_cost)\n",
        "print(\"Best Params:\", best_params)"
      ]
    },
    {
      "cell_type": "markdown",
      "id": "L6HLIFEZYB-3",
      "metadata": {
        "id": "L6HLIFEZYB-3"
      },
      "source": [
        "Best Accuracy: 0.9553896209845381\n",
        "\n",
        "Best Params: [66.0836693  29.31785261  5.62044184]"
      ]
    },
    {
      "cell_type": "code",
      "execution_count": null,
      "id": "nXncT0pWX_lo",
      "metadata": {
        "colab": {
          "base_uri": "https://localhost:8080/",
          "height": 219
        },
        "id": "nXncT0pWX_lo",
        "outputId": "a087caec-3edf-4f6c-ea63-a5d93884218c"
      },
      "outputs": [
        {
          "name": "stderr",
          "output_type": "stream",
          "text": [
            "/usr/local/lib/python3.11/dist-packages/sklearn/base.py:1389: DataConversionWarning:\n",
            "\n",
            "A column-vector y was passed when a 1d array was expected. Please change the shape of y to (n_samples,), for example using ravel().\n",
            "\n",
            "[Parallel(n_jobs=-1)]: Using backend ThreadingBackend with 2 concurrent workers.\n",
            "[Parallel(n_jobs=-1)]: Done  46 tasks      | elapsed:  1.8min\n",
            "[Parallel(n_jobs=-1)]: Done  66 out of  66 | elapsed:  2.5min finished\n"
          ]
        },
        {
          "data": {
            "text/html": [
              "<style>#sk-container-id-1 {\n",
              "  /* Definition of color scheme common for light and dark mode */\n",
              "  --sklearn-color-text: #000;\n",
              "  --sklearn-color-text-muted: #666;\n",
              "  --sklearn-color-line: gray;\n",
              "  /* Definition of color scheme for unfitted estimators */\n",
              "  --sklearn-color-unfitted-level-0: #fff5e6;\n",
              "  --sklearn-color-unfitted-level-1: #f6e4d2;\n",
              "  --sklearn-color-unfitted-level-2: #ffe0b3;\n",
              "  --sklearn-color-unfitted-level-3: chocolate;\n",
              "  /* Definition of color scheme for fitted estimators */\n",
              "  --sklearn-color-fitted-level-0: #f0f8ff;\n",
              "  --sklearn-color-fitted-level-1: #d4ebff;\n",
              "  --sklearn-color-fitted-level-2: #b3dbfd;\n",
              "  --sklearn-color-fitted-level-3: cornflowerblue;\n",
              "\n",
              "  /* Specific color for light theme */\n",
              "  --sklearn-color-text-on-default-background: var(--sg-text-color, var(--theme-code-foreground, var(--jp-content-font-color1, black)));\n",
              "  --sklearn-color-background: var(--sg-background-color, var(--theme-background, var(--jp-layout-color0, white)));\n",
              "  --sklearn-color-border-box: var(--sg-text-color, var(--theme-code-foreground, var(--jp-content-font-color1, black)));\n",
              "  --sklearn-color-icon: #696969;\n",
              "\n",
              "  @media (prefers-color-scheme: dark) {\n",
              "    /* Redefinition of color scheme for dark theme */\n",
              "    --sklearn-color-text-on-default-background: var(--sg-text-color, var(--theme-code-foreground, var(--jp-content-font-color1, white)));\n",
              "    --sklearn-color-background: var(--sg-background-color, var(--theme-background, var(--jp-layout-color0, #111)));\n",
              "    --sklearn-color-border-box: var(--sg-text-color, var(--theme-code-foreground, var(--jp-content-font-color1, white)));\n",
              "    --sklearn-color-icon: #878787;\n",
              "  }\n",
              "}\n",
              "\n",
              "#sk-container-id-1 {\n",
              "  color: var(--sklearn-color-text);\n",
              "}\n",
              "\n",
              "#sk-container-id-1 pre {\n",
              "  padding: 0;\n",
              "}\n",
              "\n",
              "#sk-container-id-1 input.sk-hidden--visually {\n",
              "  border: 0;\n",
              "  clip: rect(1px 1px 1px 1px);\n",
              "  clip: rect(1px, 1px, 1px, 1px);\n",
              "  height: 1px;\n",
              "  margin: -1px;\n",
              "  overflow: hidden;\n",
              "  padding: 0;\n",
              "  position: absolute;\n",
              "  width: 1px;\n",
              "}\n",
              "\n",
              "#sk-container-id-1 div.sk-dashed-wrapped {\n",
              "  border: 1px dashed var(--sklearn-color-line);\n",
              "  margin: 0 0.4em 0.5em 0.4em;\n",
              "  box-sizing: border-box;\n",
              "  padding-bottom: 0.4em;\n",
              "  background-color: var(--sklearn-color-background);\n",
              "}\n",
              "\n",
              "#sk-container-id-1 div.sk-container {\n",
              "  /* jupyter's `normalize.less` sets `[hidden] { display: none; }`\n",
              "     but bootstrap.min.css set `[hidden] { display: none !important; }`\n",
              "     so we also need the `!important` here to be able to override the\n",
              "     default hidden behavior on the sphinx rendered scikit-learn.org.\n",
              "     See: https://github.com/scikit-learn/scikit-learn/issues/21755 */\n",
              "  display: inline-block !important;\n",
              "  position: relative;\n",
              "}\n",
              "\n",
              "#sk-container-id-1 div.sk-text-repr-fallback {\n",
              "  display: none;\n",
              "}\n",
              "\n",
              "div.sk-parallel-item,\n",
              "div.sk-serial,\n",
              "div.sk-item {\n",
              "  /* draw centered vertical line to link estimators */\n",
              "  background-image: linear-gradient(var(--sklearn-color-text-on-default-background), var(--sklearn-color-text-on-default-background));\n",
              "  background-size: 2px 100%;\n",
              "  background-repeat: no-repeat;\n",
              "  background-position: center center;\n",
              "}\n",
              "\n",
              "/* Parallel-specific style estimator block */\n",
              "\n",
              "#sk-container-id-1 div.sk-parallel-item::after {\n",
              "  content: \"\";\n",
              "  width: 100%;\n",
              "  border-bottom: 2px solid var(--sklearn-color-text-on-default-background);\n",
              "  flex-grow: 1;\n",
              "}\n",
              "\n",
              "#sk-container-id-1 div.sk-parallel {\n",
              "  display: flex;\n",
              "  align-items: stretch;\n",
              "  justify-content: center;\n",
              "  background-color: var(--sklearn-color-background);\n",
              "  position: relative;\n",
              "}\n",
              "\n",
              "#sk-container-id-1 div.sk-parallel-item {\n",
              "  display: flex;\n",
              "  flex-direction: column;\n",
              "}\n",
              "\n",
              "#sk-container-id-1 div.sk-parallel-item:first-child::after {\n",
              "  align-self: flex-end;\n",
              "  width: 50%;\n",
              "}\n",
              "\n",
              "#sk-container-id-1 div.sk-parallel-item:last-child::after {\n",
              "  align-self: flex-start;\n",
              "  width: 50%;\n",
              "}\n",
              "\n",
              "#sk-container-id-1 div.sk-parallel-item:only-child::after {\n",
              "  width: 0;\n",
              "}\n",
              "\n",
              "/* Serial-specific style estimator block */\n",
              "\n",
              "#sk-container-id-1 div.sk-serial {\n",
              "  display: flex;\n",
              "  flex-direction: column;\n",
              "  align-items: center;\n",
              "  background-color: var(--sklearn-color-background);\n",
              "  padding-right: 1em;\n",
              "  padding-left: 1em;\n",
              "}\n",
              "\n",
              "\n",
              "/* Toggleable style: style used for estimator/Pipeline/ColumnTransformer box that is\n",
              "clickable and can be expanded/collapsed.\n",
              "- Pipeline and ColumnTransformer use this feature and define the default style\n",
              "- Estimators will overwrite some part of the style using the `sk-estimator` class\n",
              "*/\n",
              "\n",
              "/* Pipeline and ColumnTransformer style (default) */\n",
              "\n",
              "#sk-container-id-1 div.sk-toggleable {\n",
              "  /* Default theme specific background. It is overwritten whether we have a\n",
              "  specific estimator or a Pipeline/ColumnTransformer */\n",
              "  background-color: var(--sklearn-color-background);\n",
              "}\n",
              "\n",
              "/* Toggleable label */\n",
              "#sk-container-id-1 label.sk-toggleable__label {\n",
              "  cursor: pointer;\n",
              "  display: flex;\n",
              "  width: 100%;\n",
              "  margin-bottom: 0;\n",
              "  padding: 0.5em;\n",
              "  box-sizing: border-box;\n",
              "  text-align: center;\n",
              "  align-items: start;\n",
              "  justify-content: space-between;\n",
              "  gap: 0.5em;\n",
              "}\n",
              "\n",
              "#sk-container-id-1 label.sk-toggleable__label .caption {\n",
              "  font-size: 0.6rem;\n",
              "  font-weight: lighter;\n",
              "  color: var(--sklearn-color-text-muted);\n",
              "}\n",
              "\n",
              "#sk-container-id-1 label.sk-toggleable__label-arrow:before {\n",
              "  /* Arrow on the left of the label */\n",
              "  content: \"▸\";\n",
              "  float: left;\n",
              "  margin-right: 0.25em;\n",
              "  color: var(--sklearn-color-icon);\n",
              "}\n",
              "\n",
              "#sk-container-id-1 label.sk-toggleable__label-arrow:hover:before {\n",
              "  color: var(--sklearn-color-text);\n",
              "}\n",
              "\n",
              "/* Toggleable content - dropdown */\n",
              "\n",
              "#sk-container-id-1 div.sk-toggleable__content {\n",
              "  max-height: 0;\n",
              "  max-width: 0;\n",
              "  overflow: hidden;\n",
              "  text-align: left;\n",
              "  /* unfitted */\n",
              "  background-color: var(--sklearn-color-unfitted-level-0);\n",
              "}\n",
              "\n",
              "#sk-container-id-1 div.sk-toggleable__content.fitted {\n",
              "  /* fitted */\n",
              "  background-color: var(--sklearn-color-fitted-level-0);\n",
              "}\n",
              "\n",
              "#sk-container-id-1 div.sk-toggleable__content pre {\n",
              "  margin: 0.2em;\n",
              "  border-radius: 0.25em;\n",
              "  color: var(--sklearn-color-text);\n",
              "  /* unfitted */\n",
              "  background-color: var(--sklearn-color-unfitted-level-0);\n",
              "}\n",
              "\n",
              "#sk-container-id-1 div.sk-toggleable__content.fitted pre {\n",
              "  /* unfitted */\n",
              "  background-color: var(--sklearn-color-fitted-level-0);\n",
              "}\n",
              "\n",
              "#sk-container-id-1 input.sk-toggleable__control:checked~div.sk-toggleable__content {\n",
              "  /* Expand drop-down */\n",
              "  max-height: 200px;\n",
              "  max-width: 100%;\n",
              "  overflow: auto;\n",
              "}\n",
              "\n",
              "#sk-container-id-1 input.sk-toggleable__control:checked~label.sk-toggleable__label-arrow:before {\n",
              "  content: \"▾\";\n",
              "}\n",
              "\n",
              "/* Pipeline/ColumnTransformer-specific style */\n",
              "\n",
              "#sk-container-id-1 div.sk-label input.sk-toggleable__control:checked~label.sk-toggleable__label {\n",
              "  color: var(--sklearn-color-text);\n",
              "  background-color: var(--sklearn-color-unfitted-level-2);\n",
              "}\n",
              "\n",
              "#sk-container-id-1 div.sk-label.fitted input.sk-toggleable__control:checked~label.sk-toggleable__label {\n",
              "  background-color: var(--sklearn-color-fitted-level-2);\n",
              "}\n",
              "\n",
              "/* Estimator-specific style */\n",
              "\n",
              "/* Colorize estimator box */\n",
              "#sk-container-id-1 div.sk-estimator input.sk-toggleable__control:checked~label.sk-toggleable__label {\n",
              "  /* unfitted */\n",
              "  background-color: var(--sklearn-color-unfitted-level-2);\n",
              "}\n",
              "\n",
              "#sk-container-id-1 div.sk-estimator.fitted input.sk-toggleable__control:checked~label.sk-toggleable__label {\n",
              "  /* fitted */\n",
              "  background-color: var(--sklearn-color-fitted-level-2);\n",
              "}\n",
              "\n",
              "#sk-container-id-1 div.sk-label label.sk-toggleable__label,\n",
              "#sk-container-id-1 div.sk-label label {\n",
              "  /* The background is the default theme color */\n",
              "  color: var(--sklearn-color-text-on-default-background);\n",
              "}\n",
              "\n",
              "/* On hover, darken the color of the background */\n",
              "#sk-container-id-1 div.sk-label:hover label.sk-toggleable__label {\n",
              "  color: var(--sklearn-color-text);\n",
              "  background-color: var(--sklearn-color-unfitted-level-2);\n",
              "}\n",
              "\n",
              "/* Label box, darken color on hover, fitted */\n",
              "#sk-container-id-1 div.sk-label.fitted:hover label.sk-toggleable__label.fitted {\n",
              "  color: var(--sklearn-color-text);\n",
              "  background-color: var(--sklearn-color-fitted-level-2);\n",
              "}\n",
              "\n",
              "/* Estimator label */\n",
              "\n",
              "#sk-container-id-1 div.sk-label label {\n",
              "  font-family: monospace;\n",
              "  font-weight: bold;\n",
              "  display: inline-block;\n",
              "  line-height: 1.2em;\n",
              "}\n",
              "\n",
              "#sk-container-id-1 div.sk-label-container {\n",
              "  text-align: center;\n",
              "}\n",
              "\n",
              "/* Estimator-specific */\n",
              "#sk-container-id-1 div.sk-estimator {\n",
              "  font-family: monospace;\n",
              "  border: 1px dotted var(--sklearn-color-border-box);\n",
              "  border-radius: 0.25em;\n",
              "  box-sizing: border-box;\n",
              "  margin-bottom: 0.5em;\n",
              "  /* unfitted */\n",
              "  background-color: var(--sklearn-color-unfitted-level-0);\n",
              "}\n",
              "\n",
              "#sk-container-id-1 div.sk-estimator.fitted {\n",
              "  /* fitted */\n",
              "  background-color: var(--sklearn-color-fitted-level-0);\n",
              "}\n",
              "\n",
              "/* on hover */\n",
              "#sk-container-id-1 div.sk-estimator:hover {\n",
              "  /* unfitted */\n",
              "  background-color: var(--sklearn-color-unfitted-level-2);\n",
              "}\n",
              "\n",
              "#sk-container-id-1 div.sk-estimator.fitted:hover {\n",
              "  /* fitted */\n",
              "  background-color: var(--sklearn-color-fitted-level-2);\n",
              "}\n",
              "\n",
              "/* Specification for estimator info (e.g. \"i\" and \"?\") */\n",
              "\n",
              "/* Common style for \"i\" and \"?\" */\n",
              "\n",
              ".sk-estimator-doc-link,\n",
              "a:link.sk-estimator-doc-link,\n",
              "a:visited.sk-estimator-doc-link {\n",
              "  float: right;\n",
              "  font-size: smaller;\n",
              "  line-height: 1em;\n",
              "  font-family: monospace;\n",
              "  background-color: var(--sklearn-color-background);\n",
              "  border-radius: 1em;\n",
              "  height: 1em;\n",
              "  width: 1em;\n",
              "  text-decoration: none !important;\n",
              "  margin-left: 0.5em;\n",
              "  text-align: center;\n",
              "  /* unfitted */\n",
              "  border: var(--sklearn-color-unfitted-level-1) 1pt solid;\n",
              "  color: var(--sklearn-color-unfitted-level-1);\n",
              "}\n",
              "\n",
              ".sk-estimator-doc-link.fitted,\n",
              "a:link.sk-estimator-doc-link.fitted,\n",
              "a:visited.sk-estimator-doc-link.fitted {\n",
              "  /* fitted */\n",
              "  border: var(--sklearn-color-fitted-level-1) 1pt solid;\n",
              "  color: var(--sklearn-color-fitted-level-1);\n",
              "}\n",
              "\n",
              "/* On hover */\n",
              "div.sk-estimator:hover .sk-estimator-doc-link:hover,\n",
              ".sk-estimator-doc-link:hover,\n",
              "div.sk-label-container:hover .sk-estimator-doc-link:hover,\n",
              ".sk-estimator-doc-link:hover {\n",
              "  /* unfitted */\n",
              "  background-color: var(--sklearn-color-unfitted-level-3);\n",
              "  color: var(--sklearn-color-background);\n",
              "  text-decoration: none;\n",
              "}\n",
              "\n",
              "div.sk-estimator.fitted:hover .sk-estimator-doc-link.fitted:hover,\n",
              ".sk-estimator-doc-link.fitted:hover,\n",
              "div.sk-label-container:hover .sk-estimator-doc-link.fitted:hover,\n",
              ".sk-estimator-doc-link.fitted:hover {\n",
              "  /* fitted */\n",
              "  background-color: var(--sklearn-color-fitted-level-3);\n",
              "  color: var(--sklearn-color-background);\n",
              "  text-decoration: none;\n",
              "}\n",
              "\n",
              "/* Span, style for the box shown on hovering the info icon */\n",
              ".sk-estimator-doc-link span {\n",
              "  display: none;\n",
              "  z-index: 9999;\n",
              "  position: relative;\n",
              "  font-weight: normal;\n",
              "  right: .2ex;\n",
              "  padding: .5ex;\n",
              "  margin: .5ex;\n",
              "  width: min-content;\n",
              "  min-width: 20ex;\n",
              "  max-width: 50ex;\n",
              "  color: var(--sklearn-color-text);\n",
              "  box-shadow: 2pt 2pt 4pt #999;\n",
              "  /* unfitted */\n",
              "  background: var(--sklearn-color-unfitted-level-0);\n",
              "  border: .5pt solid var(--sklearn-color-unfitted-level-3);\n",
              "}\n",
              "\n",
              ".sk-estimator-doc-link.fitted span {\n",
              "  /* fitted */\n",
              "  background: var(--sklearn-color-fitted-level-0);\n",
              "  border: var(--sklearn-color-fitted-level-3);\n",
              "}\n",
              "\n",
              ".sk-estimator-doc-link:hover span {\n",
              "  display: block;\n",
              "}\n",
              "\n",
              "/* \"?\"-specific style due to the `<a>` HTML tag */\n",
              "\n",
              "#sk-container-id-1 a.estimator_doc_link {\n",
              "  float: right;\n",
              "  font-size: 1rem;\n",
              "  line-height: 1em;\n",
              "  font-family: monospace;\n",
              "  background-color: var(--sklearn-color-background);\n",
              "  border-radius: 1rem;\n",
              "  height: 1rem;\n",
              "  width: 1rem;\n",
              "  text-decoration: none;\n",
              "  /* unfitted */\n",
              "  color: var(--sklearn-color-unfitted-level-1);\n",
              "  border: var(--sklearn-color-unfitted-level-1) 1pt solid;\n",
              "}\n",
              "\n",
              "#sk-container-id-1 a.estimator_doc_link.fitted {\n",
              "  /* fitted */\n",
              "  border: var(--sklearn-color-fitted-level-1) 1pt solid;\n",
              "  color: var(--sklearn-color-fitted-level-1);\n",
              "}\n",
              "\n",
              "/* On hover */\n",
              "#sk-container-id-1 a.estimator_doc_link:hover {\n",
              "  /* unfitted */\n",
              "  background-color: var(--sklearn-color-unfitted-level-3);\n",
              "  color: var(--sklearn-color-background);\n",
              "  text-decoration: none;\n",
              "}\n",
              "\n",
              "#sk-container-id-1 a.estimator_doc_link.fitted:hover {\n",
              "  /* fitted */\n",
              "  background-color: var(--sklearn-color-fitted-level-3);\n",
              "}\n",
              "</style><div id=\"sk-container-id-1\" class=\"sk-top-container\"><div class=\"sk-text-repr-fallback\"><pre>ExtraTreesClassifier(class_weight=&#x27;balanced&#x27;, max_depth=29, min_samples_split=5,\n",
              "                     n_estimators=66, n_jobs=-1, random_state=42, verbose=1)</pre><b>In a Jupyter environment, please rerun this cell to show the HTML representation or trust the notebook. <br />On GitHub, the HTML representation is unable to render, please try loading this page with nbviewer.org.</b></div><div class=\"sk-container\" hidden><div class=\"sk-item\"><div class=\"sk-estimator fitted sk-toggleable\"><input class=\"sk-toggleable__control sk-hidden--visually\" id=\"sk-estimator-id-1\" type=\"checkbox\" checked><label for=\"sk-estimator-id-1\" class=\"sk-toggleable__label fitted sk-toggleable__label-arrow\"><div><div>ExtraTreesClassifier</div></div><div><a class=\"sk-estimator-doc-link fitted\" rel=\"noreferrer\" target=\"_blank\" href=\"https://scikit-learn.org/1.6/modules/generated/sklearn.ensemble.ExtraTreesClassifier.html\">?<span>Documentation for ExtraTreesClassifier</span></a><span class=\"sk-estimator-doc-link fitted\">i<span>Fitted</span></span></div></label><div class=\"sk-toggleable__content fitted\"><pre>ExtraTreesClassifier(class_weight=&#x27;balanced&#x27;, max_depth=29, min_samples_split=5,\n",
              "                     n_estimators=66, n_jobs=-1, random_state=42, verbose=1)</pre></div> </div></div></div></div>"
            ],
            "text/plain": [
              "ExtraTreesClassifier(class_weight='balanced', max_depth=29, min_samples_split=5,\n",
              "                     n_estimators=66, n_jobs=-1, random_state=42, verbose=1)"
            ]
          },
          "execution_count": 21,
          "metadata": {},
          "output_type": "execute_result"
        }
      ],
      "source": [
        "best_params =  [66.0836693, 29.31785261, 5.62044184]\n",
        "\n",
        "best_n_estimators = int(best_params[0])\n",
        "best_max_depth = int(best_params[1])\n",
        "best_min_samples_split = int(best_params[2])\n",
        "\n",
        "clf = ExtraTreesClassifier(\n",
        "    n_estimators=best_n_estimators,\n",
        "    max_depth=best_max_depth,\n",
        "    min_samples_split=best_min_samples_split,\n",
        "    class_weight='balanced',\n",
        "    random_state=42,\n",
        "    n_jobs=-1,\n",
        "    verbose=1\n",
        ")\n",
        "\n",
        "clf.fit(x_train, y_train)"
      ]
    },
    {
      "cell_type": "code",
      "execution_count": null,
      "id": "z85nbEu5Z5FM",
      "metadata": {
        "colab": {
          "base_uri": "https://localhost:8080/"
        },
        "id": "z85nbEu5Z5FM",
        "outputId": "84749993-b631-47cd-e4f7-8eb6b7c518af"
      },
      "outputs": [
        {
          "name": "stderr",
          "output_type": "stream",
          "text": [
            "[Parallel(n_jobs=2)]: Using backend ThreadingBackend with 2 concurrent workers.\n"
          ]
        },
        {
          "name": "stdout",
          "output_type": "stream",
          "text": [
            "Accuracy: 0.95\n"
          ]
        },
        {
          "name": "stderr",
          "output_type": "stream",
          "text": [
            "[Parallel(n_jobs=2)]: Done  46 tasks      | elapsed:    0.4s\n",
            "[Parallel(n_jobs=2)]: Done  66 out of  66 | elapsed:    0.5s finished\n"
          ]
        }
      ],
      "source": [
        "y_pred = clf.predict(x_test)\n",
        "\n",
        "accuracy = accuracy_score(y_test, y_pred)\n",
        "print(f'Accuracy: {accuracy:.2f}')"
      ]
    },
    {
      "cell_type": "code",
      "execution_count": null,
      "id": "dgyqAA-JafFO",
      "metadata": {
        "colab": {
          "base_uri": "https://localhost:8080/",
          "height": 1000
        },
        "id": "dgyqAA-JafFO",
        "outputId": "fa571c90-940b-4a65-ec70-45a00a2b1127"
      },
      "outputs": [
        {
          "data": {
            "image/png": "[encoded data removed]",
            "text/plain": [
              "<Figure size 1000x800 with 2 Axes>"
            ]
          },
          "metadata": {},
          "output_type": "display_data"
        },
        {
          "data": {
            "image/png": "[encoded data removed]",
            "text/plain": [
              "<Figure size 1000x600 with 2 Axes>"
            ]
          },
          "metadata": {},
          "output_type": "display_data"
        }
      ],
      "source": [
        "model_evalutation( y_pred , 'Extra Trees Classifier with Swarm Search' )"
      ]
    },
    {
      "cell_type": "markdown",
      "id": "838f70a1",
      "metadata": {
        "id": "838f70a1"
      },
      "source": [
        "# DL Model"
      ]
    },
    {
      "cell_type": "code",
      "execution_count": null,
      "id": "6fc6feeb",
      "metadata": {
        "id": "6fc6feeb",
        "outputId": "a101ed8d-2de1-49cf-c975-93afb0ca1fec"
      },
      "outputs": [
        {
          "name": "stderr",
          "output_type": "stream",
          "text": [
            "c:\\Users\\OMEN\\anaconda3\\Lib\\site-packages\\keras\\src\\layers\\core\\dense.py:87: UserWarning:\n",
            "\n",
            "Do not pass an `input_shape`/`input_dim` argument to a layer. When using Sequential models, prefer using an `Input(shape)` object as the first layer in the model instead.\n",
            "\n"
          ]
        },
        {
          "data": {
            "text/html": [
              "<pre style=\"white-space:pre;overflow-x:auto;line-height:normal;font-family:Menlo,'DejaVu Sans Mono',consolas,'Courier New',monospace\"><span style=\"font-weight: bold\">Model: \"sequential_3\"</span>\n",
              "</pre>\n"
            ],
            "text/plain": [
              "\u001b[1mModel: \"sequential_3\"\u001b[0m\n"
            ]
          },
          "metadata": {},
          "output_type": "display_data"
        },
        {
          "data": {
            "text/html": [
              "<pre style=\"white-space:pre;overflow-x:auto;line-height:normal;font-family:Menlo,'DejaVu Sans Mono',consolas,'Courier New',monospace\">┏━━━━━━━━━━━━━━━━━━━━━━━━━━━━━━━━━┳━━━━━━━━━━━━━━━━━━━━━━━━┳━━━━━━━━━━━━━━━┓\n",
              "┃<span style=\"font-weight: bold\"> Layer (type)                    </span>┃<span style=\"font-weight: bold\"> Output Shape           </span>┃<span style=\"font-weight: bold\">       Param # </span>┃\n",
              "┡━━━━━━━━━━━━━━━━━━━━━━━━━━━━━━━━━╇━━━━━━━━━━━━━━━━━━━━━━━━╇━━━━━━━━━━━━━━━┩\n",
              "│ dense_15 (<span style=\"color: #0087ff; text-decoration-color: #0087ff\">Dense</span>)                │ (<span style=\"color: #00d7ff; text-decoration-color: #00d7ff\">None</span>, <span style=\"color: #00af00; text-decoration-color: #00af00\">512</span>)            │        <span style=\"color: #00af00; text-decoration-color: #00af00\">94,720</span> │\n",
              "├─────────────────────────────────┼────────────────────────┼───────────────┤\n",
              "│ batch_normalization_12          │ (<span style=\"color: #00d7ff; text-decoration-color: #00d7ff\">None</span>, <span style=\"color: #00af00; text-decoration-color: #00af00\">512</span>)            │         <span style=\"color: #00af00; text-decoration-color: #00af00\">2,048</span> │\n",
              "│ (<span style=\"color: #0087ff; text-decoration-color: #0087ff\">BatchNormalization</span>)            │                        │               │\n",
              "├─────────────────────────────────┼────────────────────────┼───────────────┤\n",
              "│ dropout_12 (<span style=\"color: #0087ff; text-decoration-color: #0087ff\">Dropout</span>)            │ (<span style=\"color: #00d7ff; text-decoration-color: #00d7ff\">None</span>, <span style=\"color: #00af00; text-decoration-color: #00af00\">512</span>)            │             <span style=\"color: #00af00; text-decoration-color: #00af00\">0</span> │\n",
              "├─────────────────────────────────┼────────────────────────┼───────────────┤\n",
              "│ dense_16 (<span style=\"color: #0087ff; text-decoration-color: #0087ff\">Dense</span>)                │ (<span style=\"color: #00d7ff; text-decoration-color: #00d7ff\">None</span>, <span style=\"color: #00af00; text-decoration-color: #00af00\">256</span>)            │       <span style=\"color: #00af00; text-decoration-color: #00af00\">131,328</span> │\n",
              "├─────────────────────────────────┼────────────────────────┼───────────────┤\n",
              "│ batch_normalization_13          │ (<span style=\"color: #00d7ff; text-decoration-color: #00d7ff\">None</span>, <span style=\"color: #00af00; text-decoration-color: #00af00\">256</span>)            │         <span style=\"color: #00af00; text-decoration-color: #00af00\">1,024</span> │\n",
              "│ (<span style=\"color: #0087ff; text-decoration-color: #0087ff\">BatchNormalization</span>)            │                        │               │\n",
              "├─────────────────────────────────┼────────────────────────┼───────────────┤\n",
              "│ dropout_13 (<span style=\"color: #0087ff; text-decoration-color: #0087ff\">Dropout</span>)            │ (<span style=\"color: #00d7ff; text-decoration-color: #00d7ff\">None</span>, <span style=\"color: #00af00; text-decoration-color: #00af00\">256</span>)            │             <span style=\"color: #00af00; text-decoration-color: #00af00\">0</span> │\n",
              "├─────────────────────────────────┼────────────────────────┼───────────────┤\n",
              "│ dense_17 (<span style=\"color: #0087ff; text-decoration-color: #0087ff\">Dense</span>)                │ (<span style=\"color: #00d7ff; text-decoration-color: #00d7ff\">None</span>, <span style=\"color: #00af00; text-decoration-color: #00af00\">128</span>)            │        <span style=\"color: #00af00; text-decoration-color: #00af00\">32,896</span> │\n",
              "├─────────────────────────────────┼────────────────────────┼───────────────┤\n",
              "│ batch_normalization_14          │ (<span style=\"color: #00d7ff; text-decoration-color: #00d7ff\">None</span>, <span style=\"color: #00af00; text-decoration-color: #00af00\">128</span>)            │           <span style=\"color: #00af00; text-decoration-color: #00af00\">512</span> │\n",
              "│ (<span style=\"color: #0087ff; text-decoration-color: #0087ff\">BatchNormalization</span>)            │                        │               │\n",
              "├─────────────────────────────────┼────────────────────────┼───────────────┤\n",
              "│ dropout_14 (<span style=\"color: #0087ff; text-decoration-color: #0087ff\">Dropout</span>)            │ (<span style=\"color: #00d7ff; text-decoration-color: #00d7ff\">None</span>, <span style=\"color: #00af00; text-decoration-color: #00af00\">128</span>)            │             <span style=\"color: #00af00; text-decoration-color: #00af00\">0</span> │\n",
              "├─────────────────────────────────┼────────────────────────┼───────────────┤\n",
              "│ dense_18 (<span style=\"color: #0087ff; text-decoration-color: #0087ff\">Dense</span>)                │ (<span style=\"color: #00d7ff; text-decoration-color: #00d7ff\">None</span>, <span style=\"color: #00af00; text-decoration-color: #00af00\">64</span>)             │         <span style=\"color: #00af00; text-decoration-color: #00af00\">8,256</span> │\n",
              "├─────────────────────────────────┼────────────────────────┼───────────────┤\n",
              "│ batch_normalization_15          │ (<span style=\"color: #00d7ff; text-decoration-color: #00d7ff\">None</span>, <span style=\"color: #00af00; text-decoration-color: #00af00\">64</span>)             │           <span style=\"color: #00af00; text-decoration-color: #00af00\">256</span> │\n",
              "│ (<span style=\"color: #0087ff; text-decoration-color: #0087ff\">BatchNormalization</span>)            │                        │               │\n",
              "├─────────────────────────────────┼────────────────────────┼───────────────┤\n",
              "│ dropout_15 (<span style=\"color: #0087ff; text-decoration-color: #0087ff\">Dropout</span>)            │ (<span style=\"color: #00d7ff; text-decoration-color: #00d7ff\">None</span>, <span style=\"color: #00af00; text-decoration-color: #00af00\">64</span>)             │             <span style=\"color: #00af00; text-decoration-color: #00af00\">0</span> │\n",
              "├─────────────────────────────────┼────────────────────────┼───────────────┤\n",
              "│ dense_19 (<span style=\"color: #0087ff; text-decoration-color: #0087ff\">Dense</span>)                │ (<span style=\"color: #00d7ff; text-decoration-color: #00d7ff\">None</span>, <span style=\"color: #00af00; text-decoration-color: #00af00\">4</span>)              │           <span style=\"color: #00af00; text-decoration-color: #00af00\">260</span> │\n",
              "└─────────────────────────────────┴────────────────────────┴───────────────┘\n",
              "</pre>\n"
            ],
            "text/plain": [
              "┏━━━━━━━━━━━━━━━━━━━━━━━━━━━━━━━━━┳━━━━━━━━━━━━━━━━━━━━━━━━┳━━━━━━━━━━━━━━━┓\n",
              "┃\u001b[1m \u001b[0m\u001b[1mLayer (type)                   \u001b[0m\u001b[1m \u001b[0m┃\u001b[1m \u001b[0m\u001b[1mOutput Shape          \u001b[0m\u001b[1m \u001b[0m┃\u001b[1m \u001b[0m\u001b[1m      Param #\u001b[0m\u001b[1m \u001b[0m┃\n",
              "┡━━━━━━━━━━━━━━━━━━━━━━━━━━━━━━━━━╇━━━━━━━━━━━━━━━━━━━━━━━━╇━━━━━━━━━━━━━━━┩\n",
              "│ dense_15 (\u001b[38;5;33mDense\u001b[0m)                │ (\u001b[38;5;45mNone\u001b[0m, \u001b[38;5;34m512\u001b[0m)            │        \u001b[38;5;34m94,720\u001b[0m │\n",
              "├─────────────────────────────────┼────────────────────────┼───────────────┤\n",
              "│ batch_normalization_12          │ (\u001b[38;5;45mNone\u001b[0m, \u001b[38;5;34m512\u001b[0m)            │         \u001b[38;5;34m2,048\u001b[0m │\n",
              "│ (\u001b[38;5;33mBatchNormalization\u001b[0m)            │                        │               │\n",
              "├─────────────────────────────────┼────────────────────────┼───────────────┤\n",
              "│ dropout_12 (\u001b[38;5;33mDropout\u001b[0m)            │ (\u001b[38;5;45mNone\u001b[0m, \u001b[38;5;34m512\u001b[0m)            │             \u001b[38;5;34m0\u001b[0m │\n",
              "├─────────────────────────────────┼────────────────────────┼───────────────┤\n",
              "│ dense_16 (\u001b[38;5;33mDense\u001b[0m)                │ (\u001b[38;5;45mNone\u001b[0m, \u001b[38;5;34m256\u001b[0m)            │       \u001b[38;5;34m131,328\u001b[0m │\n",
              "├─────────────────────────────────┼────────────────────────┼───────────────┤\n",
              "│ batch_normalization_13          │ (\u001b[38;5;45mNone\u001b[0m, \u001b[38;5;34m256\u001b[0m)            │         \u001b[38;5;34m1,024\u001b[0m │\n",
              "│ (\u001b[38;5;33mBatchNormalization\u001b[0m)            │                        │               │\n",
              "├─────────────────────────────────┼────────────────────────┼───────────────┤\n",
              "│ dropout_13 (\u001b[38;5;33mDropout\u001b[0m)            │ (\u001b[38;5;45mNone\u001b[0m, \u001b[38;5;34m256\u001b[0m)            │             \u001b[38;5;34m0\u001b[0m │\n",
              "├─────────────────────────────────┼────────────────────────┼───────────────┤\n",
              "│ dense_17 (\u001b[38;5;33mDense\u001b[0m)                │ (\u001b[38;5;45mNone\u001b[0m, \u001b[38;5;34m128\u001b[0m)            │        \u001b[38;5;34m32,896\u001b[0m │\n",
              "├─────────────────────────────────┼────────────────────────┼───────────────┤\n",
              "│ batch_normalization_14          │ (\u001b[38;5;45mNone\u001b[0m, \u001b[38;5;34m128\u001b[0m)            │           \u001b[38;5;34m512\u001b[0m │\n",
              "│ (\u001b[38;5;33mBatchNormalization\u001b[0m)            │                        │               │\n",
              "├─────────────────────────────────┼────────────────────────┼───────────────┤\n",
              "│ dropout_14 (\u001b[38;5;33mDropout\u001b[0m)            │ (\u001b[38;5;45mNone\u001b[0m, \u001b[38;5;34m128\u001b[0m)            │             \u001b[38;5;34m0\u001b[0m │\n",
              "├─────────────────────────────────┼────────────────────────┼───────────────┤\n",
              "│ dense_18 (\u001b[38;5;33mDense\u001b[0m)                │ (\u001b[38;5;45mNone\u001b[0m, \u001b[38;5;34m64\u001b[0m)             │         \u001b[38;5;34m8,256\u001b[0m │\n",
              "├─────────────────────────────────┼────────────────────────┼───────────────┤\n",
              "│ batch_normalization_15          │ (\u001b[38;5;45mNone\u001b[0m, \u001b[38;5;34m64\u001b[0m)             │           \u001b[38;5;34m256\u001b[0m │\n",
              "│ (\u001b[38;5;33mBatchNormalization\u001b[0m)            │                        │               │\n",
              "├─────────────────────────────────┼────────────────────────┼───────────────┤\n",
              "│ dropout_15 (\u001b[38;5;33mDropout\u001b[0m)            │ (\u001b[38;5;45mNone\u001b[0m, \u001b[38;5;34m64\u001b[0m)             │             \u001b[38;5;34m0\u001b[0m │\n",
              "├─────────────────────────────────┼────────────────────────┼───────────────┤\n",
              "│ dense_19 (\u001b[38;5;33mDense\u001b[0m)                │ (\u001b[38;5;45mNone\u001b[0m, \u001b[38;5;34m4\u001b[0m)              │           \u001b[38;5;34m260\u001b[0m │\n",
              "└─────────────────────────────────┴────────────────────────┴───────────────┘\n"
            ]
          },
          "metadata": {},
          "output_type": "display_data"
        },
        {
          "data": {
            "text/html": [
              "<pre style=\"white-space:pre;overflow-x:auto;line-height:normal;font-family:Menlo,'DejaVu Sans Mono',consolas,'Courier New',monospace\"><span style=\"font-weight: bold\"> Total params: </span><span style=\"color: #00af00; text-decoration-color: #00af00\">271,300</span> (1.03 MB)\n",
              "</pre>\n"
            ],
            "text/plain": [
              "\u001b[1m Total params: \u001b[0m\u001b[38;5;34m271,300\u001b[0m (1.03 MB)\n"
            ]
          },
          "metadata": {},
          "output_type": "display_data"
        },
        {
          "data": {
            "text/html": [
              "<pre style=\"white-space:pre;overflow-x:auto;line-height:normal;font-family:Menlo,'DejaVu Sans Mono',consolas,'Courier New',monospace\"><span style=\"font-weight: bold\"> Trainable params: </span><span style=\"color: #00af00; text-decoration-color: #00af00\">269,380</span> (1.03 MB)\n",
              "</pre>\n"
            ],
            "text/plain": [
              "\u001b[1m Trainable params: \u001b[0m\u001b[38;5;34m269,380\u001b[0m (1.03 MB)\n"
            ]
          },
          "metadata": {},
          "output_type": "display_data"
        },
        {
          "data": {
            "text/html": [
              "<pre style=\"white-space:pre;overflow-x:auto;line-height:normal;font-family:Menlo,'DejaVu Sans Mono',consolas,'Courier New',monospace\"><span style=\"font-weight: bold\"> Non-trainable params: </span><span style=\"color: #00af00; text-decoration-color: #00af00\">1,920</span> (7.50 KB)\n",
              "</pre>\n"
            ],
            "text/plain": [
              "\u001b[1m Non-trainable params: \u001b[0m\u001b[38;5;34m1,920\u001b[0m (7.50 KB)\n"
            ]
          },
          "metadata": {},
          "output_type": "display_data"
        }
      ],
      "source": [
        "from tensorflow.keras.models import Sequential\n",
        "from tensorflow.keras.layers import Dense, Dropout, BatchNormalization\n",
        "from tensorflow.keras.regularizers import l2\n",
        "from tensorflow.keras.optimizers import Adam\n",
        "from tensorflow.keras.callbacks import EarlyStopping, ReduceLROnPlateau, ModelCheckpoint\n",
        "import tensorflow as tf\n",
        "\n",
        "def create_model(input_shape, num_classes):\n",
        "    model = Sequential([\n",
        "\n",
        "        Dense(512, activation='relu', input_shape=(input_shape,), kernel_regularizer=l2(0.001)),\n",
        "        BatchNormalization(),\n",
        "        Dropout(0.5),\n",
        "\n",
        "        Dense(256, activation='relu', input_shape=(input_shape,), kernel_regularizer=l2(0.001)),\n",
        "        BatchNormalization(),\n",
        "        Dropout(0.5),\n",
        "\n",
        "        Dense(128, activation='relu', kernel_regularizer=l2(0.001)),\n",
        "        BatchNormalization(),\n",
        "        Dropout(0.4),\n",
        "\n",
        "        Dense(64, activation='relu', kernel_regularizer=l2(0.001)),\n",
        "        BatchNormalization(),\n",
        "        Dropout(0.3),\n",
        "\n",
        "        Dense(num_classes, activation='softmax')\n",
        "    ])\n",
        "\n",
        "    model.compile(optimizer=Adam(learning_rate=0.001),\n",
        "                 loss='categorical_crossentropy',\n",
        "                 metrics=['accuracy' , tf.keras.metrics.Precision(), tf.keras.metrics.Recall()])\n",
        "\n",
        "    return model\n",
        "\n",
        "from tensorflow.keras.utils import to_categorical\n",
        "\n",
        "y_train_one = to_categorical(y_train, num_classes=4)\n",
        "y_test_one = to_categorical(y_test, num_classes=4)\n",
        "y_val_one = to_categorical(y_val, num_classes=4)\n",
        "\n",
        "model = create_model(x_train.shape[1], y_train_one.shape[1])\n",
        "model.summary()"
      ]
    },
    {
      "cell_type": "code",
      "execution_count": null,
      "id": "acd17db0",
      "metadata": {
        "id": "acd17db0",
        "outputId": "23a11dc7-fc4e-40c0-f487-cb85351ef674"
      },
      "outputs": [
        {
          "name": "stdout",
          "output_type": "stream",
          "text": [
            "Epoch 1/100\n",
            "\u001b[1m1162/1162\u001b[0m \u001b[32m━━━━━━━━━━━━━━━━━━━━\u001b[0m\u001b[37m\u001b[0m \u001b[1m30s\u001b[0m 19ms/step - accuracy: 0.8282 - loss: 1.0653 - precision_3: 0.8582 - recall_3: 0.7967 - val_accuracy: 0.9487 - val_loss: 0.2996 - val_precision_3: 0.9520 - val_recall_3: 0.9450 - learning_rate: 0.0010\n",
            "Epoch 2/100\n",
            "\u001b[1m1162/1162\u001b[0m \u001b[32m━━━━━━━━━━━━━━━━━━━━\u001b[0m\u001b[37m\u001b[0m \u001b[1m20s\u001b[0m 17ms/step - accuracy: 0.9337 - loss: 0.3129 - precision_3: 0.9379 - recall_3: 0.9298 - val_accuracy: 0.9521 - val_loss: 0.2344 - val_precision_3: 0.9546 - val_recall_3: 0.9498 - learning_rate: 0.0010\n",
            "Epoch 3/100\n",
            "\u001b[1m1162/1162\u001b[0m \u001b[32m━━━━━━━━━━━━━━━━━━━━\u001b[0m\u001b[37m\u001b[0m \u001b[1m20s\u001b[0m 17ms/step - accuracy: 0.9406 - loss: 0.2653 - precision_3: 0.9439 - recall_3: 0.9374 - val_accuracy: 0.9534 - val_loss: 0.2248 - val_precision_3: 0.9553 - val_recall_3: 0.9515 - learning_rate: 0.0010\n",
            "Epoch 4/100\n",
            "\u001b[1m1162/1162\u001b[0m \u001b[32m━━━━━━━━━━━━━━━━━━━━\u001b[0m\u001b[37m\u001b[0m \u001b[1m21s\u001b[0m 18ms/step - accuracy: 0.9441 - loss: 0.2548 - precision_3: 0.9473 - recall_3: 0.9413 - val_accuracy: 0.9541 - val_loss: 0.2240 - val_precision_3: 0.9553 - val_recall_3: 0.9528 - learning_rate: 0.0010\n",
            "Epoch 5/100\n",
            "\u001b[1m1162/1162\u001b[0m \u001b[32m━━━━━━━━━━━━━━━━━━━━\u001b[0m\u001b[37m\u001b[0m \u001b[1m21s\u001b[0m 18ms/step - accuracy: 0.9461 - loss: 0.2500 - precision_3: 0.9489 - recall_3: 0.9435 - val_accuracy: 0.9546 - val_loss: 0.2213 - val_precision_3: 0.9562 - val_recall_3: 0.9528 - learning_rate: 0.0010\n",
            "Epoch 6/100\n",
            "\u001b[1m1162/1162\u001b[0m \u001b[32m━━━━━━━━━━━━━━━━━━━━\u001b[0m\u001b[37m\u001b[0m \u001b[1m24s\u001b[0m 20ms/step - accuracy: 0.9471 - loss: 0.2458 - precision_3: 0.9496 - recall_3: 0.9446 - val_accuracy: 0.9562 - val_loss: 0.2176 - val_precision_3: 0.9575 - val_recall_3: 0.9544 - learning_rate: 0.0010\n",
            "Epoch 7/100\n",
            "\u001b[1m1162/1162\u001b[0m \u001b[32m━━━━━━━━━━━━━━━━━━━━\u001b[0m\u001b[37m\u001b[0m \u001b[1m21s\u001b[0m 18ms/step - accuracy: 0.9477 - loss: 0.2461 - precision_3: 0.9502 - recall_3: 0.9453 - val_accuracy: 0.9502 - val_loss: 0.2306 - val_precision_3: 0.9519 - val_recall_3: 0.9487 - learning_rate: 0.0010\n",
            "Epoch 8/100\n",
            "\u001b[1m1162/1162\u001b[0m \u001b[32m━━━━━━━━━━━━━━━━━━━━\u001b[0m\u001b[37m\u001b[0m \u001b[1m21s\u001b[0m 18ms/step - accuracy: 0.9475 - loss: 0.2456 - precision_3: 0.9501 - recall_3: 0.9450 - val_accuracy: 0.9544 - val_loss: 0.2224 - val_precision_3: 0.9562 - val_recall_3: 0.9525 - learning_rate: 0.0010\n",
            "Epoch 9/100\n",
            "\u001b[1m1162/1162\u001b[0m \u001b[32m━━━━━━━━━━━━━━━━━━━━\u001b[0m\u001b[37m\u001b[0m \u001b[1m22s\u001b[0m 18ms/step - accuracy: 0.9483 - loss: 0.2428 - precision_3: 0.9509 - recall_3: 0.9459 - val_accuracy: 0.9556 - val_loss: 0.2170 - val_precision_3: 0.9569 - val_recall_3: 0.9542 - learning_rate: 0.0010\n",
            "Epoch 10/100\n",
            "\u001b[1m1162/1162\u001b[0m \u001b[32m━━━━━━━━━━━━━━━━━━━━\u001b[0m\u001b[37m\u001b[0m \u001b[1m21s\u001b[0m 18ms/step - accuracy: 0.9491 - loss: 0.2403 - precision_3: 0.9516 - recall_3: 0.9468 - val_accuracy: 0.9553 - val_loss: 0.2197 - val_precision_3: 0.9571 - val_recall_3: 0.9538 - learning_rate: 0.0010\n",
            "Epoch 11/100\n",
            "\u001b[1m1162/1162\u001b[0m \u001b[32m━━━━━━━━━━━━━━━━━━━━\u001b[0m\u001b[37m\u001b[0m \u001b[1m21s\u001b[0m 18ms/step - accuracy: 0.9491 - loss: 0.2395 - precision_3: 0.9516 - recall_3: 0.9466 - val_accuracy: 0.9549 - val_loss: 0.2188 - val_precision_3: 0.9575 - val_recall_3: 0.9526 - learning_rate: 0.0010\n",
            "Epoch 12/100\n",
            "\u001b[1m1162/1162\u001b[0m \u001b[32m━━━━━━━━━━━━━━━━━━━━\u001b[0m\u001b[37m\u001b[0m \u001b[1m22s\u001b[0m 19ms/step - accuracy: 0.9554 - loss: 0.2107 - precision_3: 0.9574 - recall_3: 0.9535 - val_accuracy: 0.9633 - val_loss: 0.1658 - val_precision_3: 0.9638 - val_recall_3: 0.9626 - learning_rate: 2.0000e-04\n",
            "Epoch 13/100\n",
            "\u001b[1m1162/1162\u001b[0m \u001b[32m━━━━━━━━━━━━━━━━━━━━\u001b[0m\u001b[37m\u001b[0m \u001b[1m21s\u001b[0m 18ms/step - accuracy: 0.9608 - loss: 0.1734 - precision_3: 0.9619 - recall_3: 0.9597 - val_accuracy: 0.9646 - val_loss: 0.1519 - val_precision_3: 0.9651 - val_recall_3: 0.9641 - learning_rate: 2.0000e-04\n",
            "Epoch 14/100\n",
            "\u001b[1m1162/1162\u001b[0m \u001b[32m━━━━━━━━━━━━━━━━━━━━\u001b[0m\u001b[37m\u001b[0m \u001b[1m21s\u001b[0m 18ms/step - accuracy: 0.9624 - loss: 0.1604 - precision_3: 0.9633 - recall_3: 0.9615 - val_accuracy: 0.9661 - val_loss: 0.1437 - val_precision_3: 0.9667 - val_recall_3: 0.9656 - learning_rate: 2.0000e-04\n",
            "Epoch 15/100\n",
            "\u001b[1m1162/1162\u001b[0m \u001b[32m━━━━━━━━━━━━━━━━━━━━\u001b[0m\u001b[37m\u001b[0m \u001b[1m21s\u001b[0m 18ms/step - accuracy: 0.9631 - loss: 0.1537 - precision_3: 0.9640 - recall_3: 0.9622 - val_accuracy: 0.9663 - val_loss: 0.1410 - val_precision_3: 0.9667 - val_recall_3: 0.9657 - learning_rate: 2.0000e-04\n",
            "Epoch 16/100\n",
            "\u001b[1m1162/1162\u001b[0m \u001b[32m━━━━━━━━━━━━━━━━━━━━\u001b[0m\u001b[37m\u001b[0m \u001b[1m22s\u001b[0m 19ms/step - accuracy: 0.9635 - loss: 0.1511 - precision_3: 0.9643 - recall_3: 0.9626 - val_accuracy: 0.9663 - val_loss: 0.1383 - val_precision_3: 0.9667 - val_recall_3: 0.9659 - learning_rate: 2.0000e-04\n",
            "Epoch 17/100\n",
            "\u001b[1m1162/1162\u001b[0m \u001b[32m━━━━━━━━━━━━━━━━━━━━\u001b[0m\u001b[37m\u001b[0m \u001b[1m23s\u001b[0m 20ms/step - accuracy: 0.9641 - loss: 0.1483 - precision_3: 0.9649 - recall_3: 0.9632 - val_accuracy: 0.9669 - val_loss: 0.1361 - val_precision_3: 0.9674 - val_recall_3: 0.9666 - learning_rate: 2.0000e-04\n",
            "Epoch 18/100\n",
            "\u001b[1m1162/1162\u001b[0m \u001b[32m━━━━━━━━━━━━━━━━━━━━\u001b[0m\u001b[37m\u001b[0m \u001b[1m22s\u001b[0m 19ms/step - accuracy: 0.9640 - loss: 0.1458 - precision_3: 0.9649 - recall_3: 0.9632 - val_accuracy: 0.9672 - val_loss: 0.1342 - val_precision_3: 0.9677 - val_recall_3: 0.9668 - learning_rate: 2.0000e-04\n",
            "Epoch 19/100\n",
            "\u001b[1m1162/1162\u001b[0m \u001b[32m━━━━━━━━━━━━━━━━━━━━\u001b[0m\u001b[37m\u001b[0m \u001b[1m20s\u001b[0m 17ms/step - accuracy: 0.9640 - loss: 0.1457 - precision_3: 0.9648 - recall_3: 0.9631 - val_accuracy: 0.9665 - val_loss: 0.1355 - val_precision_3: 0.9669 - val_recall_3: 0.9661 - learning_rate: 2.0000e-04\n",
            "Epoch 20/100\n",
            "\u001b[1m1162/1162\u001b[0m \u001b[32m━━━━━━━━━━━━━━━━━━━━\u001b[0m\u001b[37m\u001b[0m \u001b[1m21s\u001b[0m 18ms/step - accuracy: 0.9648 - loss: 0.1430 - precision_3: 0.9656 - recall_3: 0.9640 - val_accuracy: 0.9667 - val_loss: 0.1345 - val_precision_3: 0.9670 - val_recall_3: 0.9663 - learning_rate: 2.0000e-04\n",
            "Epoch 21/100\n",
            "\u001b[1m1162/1162\u001b[0m \u001b[32m━━━━━━━━━━━━━━━━━━━━\u001b[0m\u001b[37m\u001b[0m \u001b[1m22s\u001b[0m 19ms/step - accuracy: 0.9653 - loss: 0.1406 - precision_3: 0.9662 - recall_3: 0.9645 - val_accuracy: 0.9678 - val_loss: 0.1318 - val_precision_3: 0.9682 - val_recall_3: 0.9675 - learning_rate: 2.0000e-04\n",
            "Epoch 22/100\n",
            "\u001b[1m1162/1162\u001b[0m \u001b[32m━━━━━━━━━━━━━━━━━━━━\u001b[0m\u001b[37m\u001b[0m \u001b[1m20s\u001b[0m 17ms/step - accuracy: 0.9656 - loss: 0.1397 - precision_3: 0.9664 - recall_3: 0.9648 - val_accuracy: 0.9685 - val_loss: 0.1308 - val_precision_3: 0.9688 - val_recall_3: 0.9682 - learning_rate: 2.0000e-04\n",
            "Epoch 23/100\n",
            "\u001b[1m1162/1162\u001b[0m \u001b[32m━━━━━━━━━━━━━━━━━━━━\u001b[0m\u001b[37m\u001b[0m \u001b[1m21s\u001b[0m 18ms/step - accuracy: 0.9653 - loss: 0.1403 - precision_3: 0.9661 - recall_3: 0.9645 - val_accuracy: 0.9680 - val_loss: 0.1322 - val_precision_3: 0.9685 - val_recall_3: 0.9676 - learning_rate: 2.0000e-04\n",
            "Epoch 24/100\n",
            "\u001b[1m1162/1162\u001b[0m \u001b[32m━━━━━━━━━━━━━━━━━━━━\u001b[0m\u001b[37m\u001b[0m \u001b[1m19s\u001b[0m 16ms/step - accuracy: 0.9654 - loss: 0.1397 - precision_3: 0.9662 - recall_3: 0.9647 - val_accuracy: 0.9676 - val_loss: 0.1314 - val_precision_3: 0.9680 - val_recall_3: 0.9673 - learning_rate: 2.0000e-04\n",
            "Epoch 25/100\n",
            "\u001b[1m1162/1162\u001b[0m \u001b[32m━━━━━━━━━━━━━━━━━━━━\u001b[0m\u001b[37m\u001b[0m \u001b[1m21s\u001b[0m 18ms/step - accuracy: 0.9653 - loss: 0.1401 - precision_3: 0.9661 - recall_3: 0.9645 - val_accuracy: 0.9687 - val_loss: 0.1294 - val_precision_3: 0.9690 - val_recall_3: 0.9683 - learning_rate: 2.0000e-04\n",
            "Epoch 26/100\n",
            "\u001b[1m1162/1162\u001b[0m \u001b[32m━━━━━━━━━━━━━━━━━━━━\u001b[0m\u001b[37m\u001b[0m \u001b[1m21s\u001b[0m 18ms/step - accuracy: 0.9650 - loss: 0.1402 - precision_3: 0.9658 - recall_3: 0.9642 - val_accuracy: 0.9680 - val_loss: 0.1301 - val_precision_3: 0.9683 - val_recall_3: 0.9677 - learning_rate: 2.0000e-04\n",
            "Epoch 27/100\n",
            "\u001b[1m1162/1162\u001b[0m \u001b[32m━━━━━━━━━━━━━━━━━━━━\u001b[0m\u001b[37m\u001b[0m \u001b[1m21s\u001b[0m 18ms/step - accuracy: 0.9651 - loss: 0.1396 - precision_3: 0.9659 - recall_3: 0.9644 - val_accuracy: 0.9684 - val_loss: 0.1292 - val_precision_3: 0.9688 - val_recall_3: 0.9681 - learning_rate: 2.0000e-04\n",
            "Epoch 28/100\n",
            "\u001b[1m1162/1162\u001b[0m \u001b[32m━━━━━━━━━━━━━━━━━━━━\u001b[0m\u001b[37m\u001b[0m \u001b[1m22s\u001b[0m 19ms/step - accuracy: 0.9648 - loss: 0.1410 - precision_3: 0.9656 - recall_3: 0.9641 - val_accuracy: 0.9675 - val_loss: 0.1299 - val_precision_3: 0.9678 - val_recall_3: 0.9673 - learning_rate: 2.0000e-04\n",
            "Epoch 29/100\n",
            "\u001b[1m1162/1162\u001b[0m \u001b[32m━━━━━━━━━━━━━━━━━━━━\u001b[0m\u001b[37m\u001b[0m \u001b[1m21s\u001b[0m 18ms/step - accuracy: 0.9651 - loss: 0.1390 - precision_3: 0.9660 - recall_3: 0.9645 - val_accuracy: 0.9681 - val_loss: 0.1304 - val_precision_3: 0.9684 - val_recall_3: 0.9676 - learning_rate: 2.0000e-04\n",
            "Epoch 30/100\n",
            "\u001b[1m1162/1162\u001b[0m \u001b[32m━━━━━━━━━━━━━━━━━━━━\u001b[0m\u001b[37m\u001b[0m \u001b[1m21s\u001b[0m 18ms/step - accuracy: 0.9652 - loss: 0.1388 - precision_3: 0.9659 - recall_3: 0.9644 - val_accuracy: 0.9677 - val_loss: 0.1295 - val_precision_3: 0.9680 - val_recall_3: 0.9673 - learning_rate: 2.0000e-04\n",
            "Epoch 31/100\n",
            "\u001b[1m1162/1162\u001b[0m \u001b[32m━━━━━━━━━━━━━━━━━━━━\u001b[0m\u001b[37m\u001b[0m \u001b[1m23s\u001b[0m 20ms/step - accuracy: 0.9672 - loss: 0.1326 - precision_3: 0.9679 - recall_3: 0.9665 - val_accuracy: 0.9696 - val_loss: 0.1239 - val_precision_3: 0.9698 - val_recall_3: 0.9693 - learning_rate: 4.0000e-05\n",
            "Epoch 32/100\n",
            "\u001b[1m1162/1162\u001b[0m \u001b[32m━━━━━━━━━━━━━━━━━━━━\u001b[0m\u001b[37m\u001b[0m \u001b[1m23s\u001b[0m 19ms/step - accuracy: 0.9690 - loss: 0.1253 - precision_3: 0.9696 - recall_3: 0.9685 - val_accuracy: 0.9698 - val_loss: 0.1209 - val_precision_3: 0.9700 - val_recall_3: 0.9697 - learning_rate: 4.0000e-05\n",
            "Epoch 33/100\n",
            "\u001b[1m1162/1162\u001b[0m \u001b[32m━━━━━━━━━━━━━━━━━━━━\u001b[0m\u001b[37m\u001b[0m \u001b[1m21s\u001b[0m 18ms/step - accuracy: 0.9692 - loss: 0.1232 - precision_3: 0.9698 - recall_3: 0.9688 - val_accuracy: 0.9706 - val_loss: 0.1183 - val_precision_3: 0.9708 - val_recall_3: 0.9704 - learning_rate: 4.0000e-05\n",
            "Epoch 34/100\n",
            "\u001b[1m1162/1162\u001b[0m \u001b[32m━━━━━━━━━━━━━━━━━━━━\u001b[0m\u001b[37m\u001b[0m \u001b[1m21s\u001b[0m 18ms/step - accuracy: 0.9699 - loss: 0.1193 - precision_3: 0.9705 - recall_3: 0.9695 - val_accuracy: 0.9704 - val_loss: 0.1170 - val_precision_3: 0.9706 - val_recall_3: 0.9703 - learning_rate: 4.0000e-05\n",
            "Epoch 35/100\n",
            "\u001b[1m1162/1162\u001b[0m \u001b[32m━━━━━━━━━━━━━━━━━━━━\u001b[0m\u001b[37m\u001b[0m \u001b[1m23s\u001b[0m 20ms/step - accuracy: 0.9707 - loss: 0.1160 - precision_3: 0.9711 - recall_3: 0.9703 - val_accuracy: 0.9709 - val_loss: 0.1153 - val_precision_3: 0.9710 - val_recall_3: 0.9707 - learning_rate: 4.0000e-05\n",
            "Epoch 36/100\n",
            "\u001b[1m1162/1162\u001b[0m \u001b[32m━━━━━━━━━━━━━━━━━━━━\u001b[0m\u001b[37m\u001b[0m \u001b[1m23s\u001b[0m 20ms/step - accuracy: 0.9703 - loss: 0.1163 - precision_3: 0.9708 - recall_3: 0.9699 - val_accuracy: 0.9709 - val_loss: 0.1144 - val_precision_3: 0.9711 - val_recall_3: 0.9708 - learning_rate: 4.0000e-05\n",
            "Epoch 37/100\n",
            "\u001b[1m1162/1162\u001b[0m \u001b[32m━━━━━━━━━━━━━━━━━━━━\u001b[0m\u001b[37m\u001b[0m \u001b[1m21s\u001b[0m 18ms/step - accuracy: 0.9711 - loss: 0.1135 - precision_3: 0.9716 - recall_3: 0.9707 - val_accuracy: 0.9713 - val_loss: 0.1134 - val_precision_3: 0.9714 - val_recall_3: 0.9712 - learning_rate: 4.0000e-05\n",
            "Epoch 38/100\n",
            "\u001b[1m1162/1162\u001b[0m \u001b[32m━━━━━━━━━━━━━━━━━━━━\u001b[0m\u001b[37m\u001b[0m \u001b[1m24s\u001b[0m 21ms/step - accuracy: 0.9708 - loss: 0.1140 - precision_3: 0.9712 - recall_3: 0.9704 - val_accuracy: 0.9712 - val_loss: 0.1123 - val_precision_3: 0.9713 - val_recall_3: 0.9710 - learning_rate: 4.0000e-05\n",
            "Epoch 39/100\n",
            "\u001b[1m1162/1162\u001b[0m \u001b[32m━━━━━━━━━━━━━━━━━━━━\u001b[0m\u001b[37m\u001b[0m \u001b[1m24s\u001b[0m 21ms/step - accuracy: 0.9714 - loss: 0.1120 - precision_3: 0.9718 - recall_3: 0.9710 - val_accuracy: 0.9710 - val_loss: 0.1113 - val_precision_3: 0.9712 - val_recall_3: 0.9709 - learning_rate: 4.0000e-05\n",
            "Epoch 40/100\n",
            "\u001b[1m1162/1162\u001b[0m \u001b[32m━━━━━━━━━━━━━━━━━━━━\u001b[0m\u001b[37m\u001b[0m \u001b[1m25s\u001b[0m 21ms/step - accuracy: 0.9710 - loss: 0.1120 - precision_3: 0.9715 - recall_3: 0.9706 - val_accuracy: 0.9714 - val_loss: 0.1107 - val_precision_3: 0.9715 - val_recall_3: 0.9712 - learning_rate: 4.0000e-05\n",
            "Epoch 41/100\n",
            "\u001b[1m1162/1162\u001b[0m \u001b[32m━━━━━━━━━━━━━━━━━━━━\u001b[0m\u001b[37m\u001b[0m \u001b[1m24s\u001b[0m 21ms/step - accuracy: 0.9710 - loss: 0.1110 - precision_3: 0.9713 - recall_3: 0.9706 - val_accuracy: 0.9713 - val_loss: 0.1103 - val_precision_3: 0.9714 - val_recall_3: 0.9712 - learning_rate: 4.0000e-05\n",
            "Epoch 42/100\n",
            "\u001b[1m1162/1162\u001b[0m \u001b[32m━━━━━━━━━━━━━━━━━━━━\u001b[0m\u001b[37m\u001b[0m \u001b[1m26s\u001b[0m 22ms/step - accuracy: 0.9717 - loss: 0.1087 - precision_3: 0.9721 - recall_3: 0.9714 - val_accuracy: 0.9715 - val_loss: 0.1097 - val_precision_3: 0.9717 - val_recall_3: 0.9714 - learning_rate: 4.0000e-05\n",
            "Epoch 43/100\n",
            "\u001b[1m1162/1162\u001b[0m \u001b[32m━━━━━━━━━━━━━━━━━━━━\u001b[0m\u001b[37m\u001b[0m \u001b[1m24s\u001b[0m 21ms/step - accuracy: 0.9713 - loss: 0.1105 - precision_3: 0.9717 - recall_3: 0.9709 - val_accuracy: 0.9713 - val_loss: 0.1090 - val_precision_3: 0.9715 - val_recall_3: 0.9712 - learning_rate: 4.0000e-05\n",
            "Epoch 44/100\n",
            "\u001b[1m1162/1162\u001b[0m \u001b[32m━━━━━━━━━━━━━━━━━━━━\u001b[0m\u001b[37m\u001b[0m \u001b[1m24s\u001b[0m 21ms/step - accuracy: 0.9717 - loss: 0.1085 - precision_3: 0.9721 - recall_3: 0.9713 - val_accuracy: 0.9716 - val_loss: 0.1085 - val_precision_3: 0.9717 - val_recall_3: 0.9715 - learning_rate: 4.0000e-05\n",
            "Epoch 45/100\n",
            "\u001b[1m1162/1162\u001b[0m \u001b[32m━━━━━━━━━━━━━━━━━━━━\u001b[0m\u001b[37m\u001b[0m \u001b[1m24s\u001b[0m 20ms/step - accuracy: 0.9718 - loss: 0.1076 - precision_3: 0.9722 - recall_3: 0.9714 - val_accuracy: 0.9717 - val_loss: 0.1076 - val_precision_3: 0.9719 - val_recall_3: 0.9717 - learning_rate: 4.0000e-05\n",
            "Epoch 46/100\n",
            "\u001b[1m1162/1162\u001b[0m \u001b[32m━━━━━━━━━━━━━━━━━━━━\u001b[0m\u001b[37m\u001b[0m \u001b[1m24s\u001b[0m 20ms/step - accuracy: 0.9718 - loss: 0.1073 - precision_3: 0.9721 - recall_3: 0.9715 - val_accuracy: 0.9716 - val_loss: 0.1077 - val_precision_3: 0.9718 - val_recall_3: 0.9716 - learning_rate: 4.0000e-05\n",
            "Epoch 47/100\n",
            "\u001b[1m1162/1162\u001b[0m \u001b[32m━━━━━━━━━━━━━━━━━━━━\u001b[0m\u001b[37m\u001b[0m \u001b[1m25s\u001b[0m 21ms/step - accuracy: 0.9723 - loss: 0.1063 - precision_3: 0.9727 - recall_3: 0.9720 - val_accuracy: 0.9718 - val_loss: 0.1070 - val_precision_3: 0.9720 - val_recall_3: 0.9717 - learning_rate: 4.0000e-05\n",
            "Epoch 48/100\n",
            "\u001b[1m1162/1162\u001b[0m \u001b[32m━━━━━━━━━━━━━━━━━━━━\u001b[0m\u001b[37m\u001b[0m \u001b[1m24s\u001b[0m 21ms/step - accuracy: 0.9721 - loss: 0.1066 - precision_3: 0.9725 - recall_3: 0.9718 - val_accuracy: 0.9715 - val_loss: 0.1079 - val_precision_3: 0.9716 - val_recall_3: 0.9713 - learning_rate: 4.0000e-05\n",
            "Epoch 49/100\n",
            "\u001b[1m1162/1162\u001b[0m \u001b[32m━━━━━━━━━━━━━━━━━━━━\u001b[0m\u001b[37m\u001b[0m \u001b[1m25s\u001b[0m 21ms/step - accuracy: 0.9714 - loss: 0.1074 - precision_3: 0.9718 - recall_3: 0.9711 - val_accuracy: 0.9715 - val_loss: 0.1069 - val_precision_3: 0.9717 - val_recall_3: 0.9714 - learning_rate: 4.0000e-05\n",
            "Epoch 50/100\n",
            "\u001b[1m1162/1162\u001b[0m \u001b[32m━━━━━━━━━━━━━━━━━━━━\u001b[0m\u001b[37m\u001b[0m \u001b[1m23s\u001b[0m 19ms/step - accuracy: 0.9718 - loss: 0.1065 - precision_3: 0.9722 - recall_3: 0.9715 - val_accuracy: 0.9717 - val_loss: 0.1068 - val_precision_3: 0.9718 - val_recall_3: 0.9715 - learning_rate: 4.0000e-05\n",
            "Epoch 51/100\n",
            "\u001b[1m1162/1162\u001b[0m \u001b[32m━━━━━━━━━━━━━━━━━━━━\u001b[0m\u001b[37m\u001b[0m \u001b[1m20s\u001b[0m 18ms/step - accuracy: 0.9720 - loss: 0.1048 - precision_3: 0.9724 - recall_3: 0.9716 - val_accuracy: 0.9720 - val_loss: 0.1060 - val_precision_3: 0.9721 - val_recall_3: 0.9718 - learning_rate: 8.0000e-06\n",
            "Epoch 52/100\n",
            "\u001b[1m1162/1162\u001b[0m \u001b[32m━━━━━━━━━━━━━━━━━━━━\u001b[0m\u001b[37m\u001b[0m \u001b[1m21s\u001b[0m 18ms/step - accuracy: 0.9726 - loss: 0.1031 - precision_3: 0.9730 - recall_3: 0.9723 - val_accuracy: 0.9721 - val_loss: 0.1055 - val_precision_3: 0.9723 - val_recall_3: 0.9720 - learning_rate: 8.0000e-06\n",
            "Epoch 53/100\n",
            "\u001b[1m1162/1162\u001b[0m \u001b[32m━━━━━━━━━━━━━━━━━━━━\u001b[0m\u001b[37m\u001b[0m \u001b[1m21s\u001b[0m 18ms/step - accuracy: 0.9730 - loss: 0.1020 - precision_3: 0.9733 - recall_3: 0.9726 - val_accuracy: 0.9721 - val_loss: 0.1054 - val_precision_3: 0.9722 - val_recall_3: 0.9720 - learning_rate: 8.0000e-06\n",
            "Epoch 54/100\n",
            "\u001b[1m1162/1162\u001b[0m \u001b[32m━━━━━━━━━━━━━━━━━━━━\u001b[0m\u001b[37m\u001b[0m \u001b[1m20s\u001b[0m 17ms/step - accuracy: 0.9726 - loss: 0.1032 - precision_3: 0.9729 - recall_3: 0.9723 - val_accuracy: 0.9722 - val_loss: 0.1051 - val_precision_3: 0.9724 - val_recall_3: 0.9721 - learning_rate: 8.0000e-06\n",
            "Epoch 55/100\n",
            "\u001b[1m1162/1162\u001b[0m \u001b[32m━━━━━━━━━━━━━━━━━━━━\u001b[0m\u001b[37m\u001b[0m \u001b[1m19s\u001b[0m 17ms/step - accuracy: 0.9730 - loss: 0.1019 - precision_3: 0.9734 - recall_3: 0.9727 - val_accuracy: 0.9723 - val_loss: 0.1051 - val_precision_3: 0.9724 - val_recall_3: 0.9722 - learning_rate: 8.0000e-06\n",
            "Epoch 56/100\n",
            "\u001b[1m1162/1162\u001b[0m \u001b[32m━━━━━━━━━━━━━━━━━━━━\u001b[0m\u001b[37m\u001b[0m \u001b[1m19s\u001b[0m 17ms/step - accuracy: 0.9732 - loss: 0.1018 - precision_3: 0.9735 - recall_3: 0.9730 - val_accuracy: 0.9722 - val_loss: 0.1049 - val_precision_3: 0.9723 - val_recall_3: 0.9721 - learning_rate: 8.0000e-06\n",
            "Epoch 57/100\n",
            "\u001b[1m1162/1162\u001b[0m \u001b[32m━━━━━━━━━━━━━━━━━━━━\u001b[0m\u001b[37m\u001b[0m \u001b[1m19s\u001b[0m 16ms/step - accuracy: 0.9727 - loss: 0.1025 - precision_3: 0.9730 - recall_3: 0.9724 - val_accuracy: 0.9721 - val_loss: 0.1048 - val_precision_3: 0.9722 - val_recall_3: 0.9721 - learning_rate: 8.0000e-06\n",
            "Epoch 58/100\n",
            "\u001b[1m1162/1162\u001b[0m \u001b[32m━━━━━━━━━━━━━━━━━━━━\u001b[0m\u001b[37m\u001b[0m \u001b[1m20s\u001b[0m 17ms/step - accuracy: 0.9733 - loss: 0.1007 - precision_3: 0.9736 - recall_3: 0.9730 - val_accuracy: 0.9723 - val_loss: 0.1044 - val_precision_3: 0.9725 - val_recall_3: 0.9722 - learning_rate: 8.0000e-06\n",
            "Epoch 59/100\n",
            "\u001b[1m1162/1162\u001b[0m \u001b[32m━━━━━━━━━━━━━━━━━━━━\u001b[0m\u001b[37m\u001b[0m \u001b[1m21s\u001b[0m 18ms/step - accuracy: 0.9728 - loss: 0.1016 - precision_3: 0.9730 - recall_3: 0.9725 - val_accuracy: 0.9724 - val_loss: 0.1044 - val_precision_3: 0.9725 - val_recall_3: 0.9723 - learning_rate: 8.0000e-06\n",
            "Epoch 60/100\n",
            "\u001b[1m1162/1162\u001b[0m \u001b[32m━━━━━━━━━━━━━━━━━━━━\u001b[0m\u001b[37m\u001b[0m \u001b[1m20s\u001b[0m 17ms/step - accuracy: 0.9730 - loss: 0.1010 - precision_3: 0.9734 - recall_3: 0.9728 - val_accuracy: 0.9722 - val_loss: 0.1042 - val_precision_3: 0.9724 - val_recall_3: 0.9721 - learning_rate: 8.0000e-06\n",
            "Epoch 61/100\n",
            "\u001b[1m1162/1162\u001b[0m \u001b[32m━━━━━━━━━━━━━━━━━━━━\u001b[0m\u001b[37m\u001b[0m \u001b[1m24s\u001b[0m 20ms/step - accuracy: 0.9734 - loss: 0.1005 - precision_3: 0.9737 - recall_3: 0.9731 - val_accuracy: 0.9726 - val_loss: 0.1039 - val_precision_3: 0.9728 - val_recall_3: 0.9725 - learning_rate: 8.0000e-06\n",
            "Epoch 62/100\n",
            "\u001b[1m1162/1162\u001b[0m \u001b[32m━━━━━━━━━━━━━━━━━━━━\u001b[0m\u001b[37m\u001b[0m \u001b[1m23s\u001b[0m 20ms/step - accuracy: 0.9736 - loss: 0.1000 - precision_3: 0.9739 - recall_3: 0.9733 - val_accuracy: 0.9725 - val_loss: 0.1040 - val_precision_3: 0.9726 - val_recall_3: 0.9725 - learning_rate: 8.0000e-06\n",
            "Epoch 63/100\n",
            "\u001b[1m1162/1162\u001b[0m \u001b[32m━━━━━━━━━━━━━━━━━━━━\u001b[0m\u001b[37m\u001b[0m \u001b[1m23s\u001b[0m 20ms/step - accuracy: 0.9734 - loss: 0.0998 - precision_3: 0.9738 - recall_3: 0.9731 - val_accuracy: 0.9726 - val_loss: 0.1037 - val_precision_3: 0.9728 - val_recall_3: 0.9725 - learning_rate: 8.0000e-06\n",
            "Epoch 64/100\n",
            "\u001b[1m1162/1162\u001b[0m \u001b[32m━━━━━━━━━━━━━━━━━━━━\u001b[0m\u001b[37m\u001b[0m \u001b[1m23s\u001b[0m 19ms/step - accuracy: 0.9737 - loss: 0.0993 - precision_3: 0.9740 - recall_3: 0.9734 - val_accuracy: 0.9726 - val_loss: 0.1036 - val_precision_3: 0.9727 - val_recall_3: 0.9726 - learning_rate: 8.0000e-06\n",
            "Epoch 65/100\n",
            "\u001b[1m1162/1162\u001b[0m \u001b[32m━━━━━━━━━━━━━━━━━━━━\u001b[0m\u001b[37m\u001b[0m \u001b[1m24s\u001b[0m 20ms/step - accuracy: 0.9738 - loss: 0.0997 - precision_3: 0.9741 - recall_3: 0.9735 - val_accuracy: 0.9723 - val_loss: 0.1038 - val_precision_3: 0.9725 - val_recall_3: 0.9723 - learning_rate: 8.0000e-06\n",
            "Epoch 66/100\n",
            "\u001b[1m1162/1162\u001b[0m \u001b[32m━━━━━━━━━━━━━━━━━━━━\u001b[0m\u001b[37m\u001b[0m \u001b[1m24s\u001b[0m 20ms/step - accuracy: 0.9732 - loss: 0.1000 - precision_3: 0.9735 - recall_3: 0.9730 - val_accuracy: 0.9725 - val_loss: 0.1034 - val_precision_3: 0.9727 - val_recall_3: 0.9724 - learning_rate: 8.0000e-06\n",
            "Epoch 67/100\n",
            "\u001b[1m1162/1162\u001b[0m \u001b[32m━━━━━━━━━━━━━━━━━━━━\u001b[0m\u001b[37m\u001b[0m \u001b[1m22s\u001b[0m 19ms/step - accuracy: 0.9735 - loss: 0.1001 - precision_3: 0.9737 - recall_3: 0.9731 - val_accuracy: 0.9725 - val_loss: 0.1033 - val_precision_3: 0.9726 - val_recall_3: 0.9724 - learning_rate: 1.6000e-06\n",
            "Epoch 68/100\n",
            "\u001b[1m1162/1162\u001b[0m \u001b[32m━━━━━━━━━━━━━━━━━━━━\u001b[0m\u001b[37m\u001b[0m \u001b[1m22s\u001b[0m 19ms/step - accuracy: 0.9738 - loss: 0.0986 - precision_3: 0.9741 - recall_3: 0.9735 - val_accuracy: 0.9725 - val_loss: 0.1033 - val_precision_3: 0.9726 - val_recall_3: 0.9724 - learning_rate: 1.6000e-06\n",
            "Epoch 69/100\n",
            "\u001b[1m1162/1162\u001b[0m \u001b[32m━━━━━━━━━━━━━━━━━━━━\u001b[0m\u001b[37m\u001b[0m \u001b[1m24s\u001b[0m 21ms/step - accuracy: 0.9739 - loss: 0.0988 - precision_3: 0.9741 - recall_3: 0.9735 - val_accuracy: 0.9726 - val_loss: 0.1033 - val_precision_3: 0.9727 - val_recall_3: 0.9725 - learning_rate: 1.6000e-06\n",
            "Epoch 70/100\n",
            "\u001b[1m1162/1162\u001b[0m \u001b[32m━━━━━━━━━━━━━━━━━━━━\u001b[0m\u001b[37m\u001b[0m \u001b[1m24s\u001b[0m 20ms/step - accuracy: 0.9738 - loss: 0.0979 - precision_3: 0.9741 - recall_3: 0.9736 - val_accuracy: 0.9726 - val_loss: 0.1034 - val_precision_3: 0.9727 - val_recall_3: 0.9725 - learning_rate: 1.6000e-06\n",
            "Epoch 71/100\n",
            "\u001b[1m1162/1162\u001b[0m \u001b[32m━━━━━━━━━━━━━━━━━━━━\u001b[0m\u001b[37m\u001b[0m \u001b[1m20s\u001b[0m 17ms/step - accuracy: 0.9741 - loss: 0.0973 - precision_3: 0.9744 - recall_3: 0.9737 - val_accuracy: 0.9726 - val_loss: 0.1033 - val_precision_3: 0.9727 - val_recall_3: 0.9725 - learning_rate: 1.6000e-06\n",
            "Epoch 72/100\n",
            "\u001b[1m1162/1162\u001b[0m \u001b[32m━━━━━━━━━━━━━━━━━━━━\u001b[0m\u001b[37m\u001b[0m \u001b[1m20s\u001b[0m 17ms/step - accuracy: 0.9738 - loss: 0.0982 - precision_3: 0.9740 - recall_3: 0.9735 - val_accuracy: 0.9725 - val_loss: 0.1032 - val_precision_3: 0.9726 - val_recall_3: 0.9724 - learning_rate: 1.0000e-06\n",
            "Epoch 73/100\n",
            "\u001b[1m1162/1162\u001b[0m \u001b[32m━━━━━━━━━━━━━━━━━━━━\u001b[0m\u001b[37m\u001b[0m \u001b[1m20s\u001b[0m 17ms/step - accuracy: 0.9742 - loss: 0.0982 - precision_3: 0.9744 - recall_3: 0.9739 - val_accuracy: 0.9726 - val_loss: 0.1033 - val_precision_3: 0.9727 - val_recall_3: 0.9725 - learning_rate: 1.0000e-06\n",
            "Epoch 74/100\n",
            "\u001b[1m1162/1162\u001b[0m \u001b[32m━━━━━━━━━━━━━━━━━━━━\u001b[0m\u001b[37m\u001b[0m \u001b[1m20s\u001b[0m 17ms/step - accuracy: 0.9737 - loss: 0.0989 - precision_3: 0.9740 - recall_3: 0.9734 - val_accuracy: 0.9726 - val_loss: 0.1032 - val_precision_3: 0.9727 - val_recall_3: 0.9725 - learning_rate: 1.0000e-06\n",
            "Epoch 75/100\n",
            "\u001b[1m1162/1162\u001b[0m \u001b[32m━━━━━━━━━━━━━━━━━━━━\u001b[0m\u001b[37m\u001b[0m \u001b[1m20s\u001b[0m 17ms/step - accuracy: 0.9737 - loss: 0.0990 - precision_3: 0.9740 - recall_3: 0.9735 - val_accuracy: 0.9726 - val_loss: 0.1034 - val_precision_3: 0.9727 - val_recall_3: 0.9725 - learning_rate: 1.0000e-06\n",
            "Epoch 76/100\n",
            "\u001b[1m1162/1162\u001b[0m \u001b[32m━━━━━━━━━━━━━━━━━━━━\u001b[0m\u001b[37m\u001b[0m \u001b[1m21s\u001b[0m 18ms/step - accuracy: 0.9738 - loss: 0.0980 - precision_3: 0.9741 - recall_3: 0.9736 - val_accuracy: 0.9726 - val_loss: 0.1033 - val_precision_3: 0.9728 - val_recall_3: 0.9725 - learning_rate: 1.0000e-06\n",
            "Epoch 77/100\n",
            "\u001b[1m1162/1162\u001b[0m \u001b[32m━━━━━━━━━━━━━━━━━━━━\u001b[0m\u001b[37m\u001b[0m \u001b[1m25s\u001b[0m 21ms/step - accuracy: 0.9744 - loss: 0.0970 - precision_3: 0.9747 - recall_3: 0.9741 - val_accuracy: 0.9726 - val_loss: 0.1032 - val_precision_3: 0.9727 - val_recall_3: 0.9725 - learning_rate: 1.0000e-06\n",
            "Epoch 78/100\n",
            "\u001b[1m1162/1162\u001b[0m \u001b[32m━━━━━━━━━━━━━━━━━━━━\u001b[0m\u001b[37m\u001b[0m \u001b[1m25s\u001b[0m 21ms/step - accuracy: 0.9739 - loss: 0.0973 - precision_3: 0.9741 - recall_3: 0.9736 - val_accuracy: 0.9726 - val_loss: 0.1033 - val_precision_3: 0.9727 - val_recall_3: 0.9725 - learning_rate: 1.0000e-06\n",
            "Epoch 79/100\n",
            "\u001b[1m1162/1162\u001b[0m \u001b[32m━━━━━━━━━━━━━━━━━━━━\u001b[0m\u001b[37m\u001b[0m \u001b[1m22s\u001b[0m 19ms/step - accuracy: 0.9740 - loss: 0.0975 - precision_3: 0.9743 - recall_3: 0.9737 - val_accuracy: 0.9726 - val_loss: 0.1032 - val_precision_3: 0.9727 - val_recall_3: 0.9725 - learning_rate: 1.0000e-06\n",
            "Epoch 80/100\n",
            "\u001b[1m1162/1162\u001b[0m \u001b[32m━━━━━━━━━━━━━━━━━━━━\u001b[0m\u001b[37m\u001b[0m \u001b[1m20s\u001b[0m 17ms/step - accuracy: 0.9738 - loss: 0.0981 - precision_3: 0.9741 - recall_3: 0.9736 - val_accuracy: 0.9727 - val_loss: 0.1032 - val_precision_3: 0.9728 - val_recall_3: 0.9726 - learning_rate: 1.0000e-06\n",
            "Epoch 81/100\n",
            "\u001b[1m1162/1162\u001b[0m \u001b[32m━━━━━━━━━━━━━━━━━━━━\u001b[0m\u001b[37m\u001b[0m \u001b[1m20s\u001b[0m 17ms/step - accuracy: 0.9739 - loss: 0.0978 - precision_3: 0.9742 - recall_3: 0.9737 - val_accuracy: 0.9727 - val_loss: 0.1031 - val_precision_3: 0.9728 - val_recall_3: 0.9726 - learning_rate: 1.0000e-06\n",
            "Epoch 82/100\n",
            "\u001b[1m1162/1162\u001b[0m \u001b[32m━━━━━━━━━━━━━━━━━━━━\u001b[0m\u001b[37m\u001b[0m \u001b[1m20s\u001b[0m 17ms/step - accuracy: 0.9739 - loss: 0.0980 - precision_3: 0.9742 - recall_3: 0.9737 - val_accuracy: 0.9725 - val_loss: 0.1031 - val_precision_3: 0.9726 - val_recall_3: 0.9724 - learning_rate: 1.0000e-06\n",
            "Epoch 83/100\n",
            "\u001b[1m1162/1162\u001b[0m \u001b[32m━━━━━━━━━━━━━━━━━━━━\u001b[0m\u001b[37m\u001b[0m \u001b[1m20s\u001b[0m 17ms/step - accuracy: 0.9740 - loss: 0.0977 - precision_3: 0.9743 - recall_3: 0.9737 - val_accuracy: 0.9727 - val_loss: 0.1031 - val_precision_3: 0.9728 - val_recall_3: 0.9726 - learning_rate: 1.0000e-06\n",
            "Epoch 84/100\n",
            "\u001b[1m1162/1162\u001b[0m \u001b[32m━━━━━━━━━━━━━━━━━━━━\u001b[0m\u001b[37m\u001b[0m \u001b[1m19s\u001b[0m 17ms/step - accuracy: 0.9739 - loss: 0.0987 - precision_3: 0.9742 - recall_3: 0.9736 - val_accuracy: 0.9726 - val_loss: 0.1031 - val_precision_3: 0.9727 - val_recall_3: 0.9725 - learning_rate: 1.0000e-06\n",
            "Epoch 85/100\n",
            "\u001b[1m1162/1162\u001b[0m \u001b[32m━━━━━━━━━━━━━━━━━━━━\u001b[0m\u001b[37m\u001b[0m \u001b[1m20s\u001b[0m 17ms/step - accuracy: 0.9740 - loss: 0.0980 - precision_3: 0.9743 - recall_3: 0.9736 - val_accuracy: 0.9727 - val_loss: 0.1031 - val_precision_3: 0.9728 - val_recall_3: 0.9726 - learning_rate: 1.0000e-06\n",
            "Epoch 86/100\n",
            "\u001b[1m1162/1162\u001b[0m \u001b[32m━━━━━━━━━━━━━━━━━━━━\u001b[0m\u001b[37m\u001b[0m \u001b[1m20s\u001b[0m 17ms/step - accuracy: 0.9739 - loss: 0.0978 - precision_3: 0.9742 - recall_3: 0.9736 - val_accuracy: 0.9726 - val_loss: 0.1030 - val_precision_3: 0.9727 - val_recall_3: 0.9726 - learning_rate: 1.0000e-06\n",
            "Epoch 87/100\n",
            "\u001b[1m1162/1162\u001b[0m \u001b[32m━━━━━━━━━━━━━━━━━━━━\u001b[0m\u001b[37m\u001b[0m \u001b[1m20s\u001b[0m 17ms/step - accuracy: 0.9739 - loss: 0.0979 - precision_3: 0.9742 - recall_3: 0.9737 - val_accuracy: 0.9726 - val_loss: 0.1031 - val_precision_3: 0.9727 - val_recall_3: 0.9725 - learning_rate: 1.0000e-06\n",
            "Epoch 88/100\n",
            "\u001b[1m1162/1162\u001b[0m \u001b[32m━━━━━━━━━━━━━━━━━━━━\u001b[0m\u001b[37m\u001b[0m \u001b[1m20s\u001b[0m 17ms/step - accuracy: 0.9737 - loss: 0.0984 - precision_3: 0.9739 - recall_3: 0.9734 - val_accuracy: 0.9727 - val_loss: 0.1030 - val_precision_3: 0.9727 - val_recall_3: 0.9726 - learning_rate: 1.0000e-06\n",
            "Epoch 89/100\n",
            "\u001b[1m1162/1162\u001b[0m \u001b[32m━━━━━━━━━━━━━━━━━━━━\u001b[0m\u001b[37m\u001b[0m \u001b[1m19s\u001b[0m 17ms/step - accuracy: 0.9742 - loss: 0.0975 - precision_3: 0.9745 - recall_3: 0.9739 - val_accuracy: 0.9726 - val_loss: 0.1031 - val_precision_3: 0.9727 - val_recall_3: 0.9725 - learning_rate: 1.0000e-06\n",
            "Epoch 90/100\n",
            "\u001b[1m1162/1162\u001b[0m \u001b[32m━━━━━━━━━━━━━━━━━━━━\u001b[0m\u001b[37m\u001b[0m \u001b[1m19s\u001b[0m 17ms/step - accuracy: 0.9739 - loss: 0.0972 - precision_3: 0.9743 - recall_3: 0.9737 - val_accuracy: 0.9725 - val_loss: 0.1031 - val_precision_3: 0.9727 - val_recall_3: 0.9724 - learning_rate: 1.0000e-06\n"
          ]
        }
      ],
      "source": [
        "from sklearn.utils.class_weight import compute_class_weight\n",
        "\n",
        "callbacks = [\n",
        "    EarlyStopping(monitor='val_accuracy', mode='max' , patience=10, restore_best_weights=True),\n",
        "    ReduceLROnPlateau(monitor='val_accuracy', mode='max' , factor=0.2, patience=5, min_lr=1e-6),\n",
        "    ModelCheckpoint('best_model.keras', monitor='val_accuracy', save_best_only=True)\n",
        "]\n",
        "\n",
        "\n",
        "classes = np.unique(y_train)\n",
        "class_weights = compute_class_weight(class_weight='balanced', classes=classes, y= y_train.values.ravel() )\n",
        "class_weight_dict = dict(zip(classes, class_weights))\n",
        "\n",
        "\n",
        "history = model.fit(\n",
        "    x_train, y_train_one ,\n",
        "    validation_data=(x_val, y_val_one),\n",
        "    epochs=100,\n",
        "    batch_size=512,\n",
        "    callbacks=callbacks,\n",
        "    verbose=1\n",
        ")"
      ]
    },
    {
      "cell_type": "code",
      "execution_count": null,
      "id": "7b9ace80",
      "metadata": {
        "id": "7b9ace80",
        "outputId": "1c90b307-ced4-4cf8-f7bc-133f344d734f"
      },
      "outputs": [
        {
          "name": "stdout",
          "output_type": "stream",
          "text": [
            "\u001b[1m814/814\u001b[0m \u001b[32m━━━━━━━━━━━━━━━━━━━━\u001b[0m\u001b[37m\u001b[0m \u001b[1m2s\u001b[0m 3ms/step\n",
            "Accuracy: 0.97\n"
          ]
        }
      ],
      "source": [
        "\n",
        "y_pred = model.predict(x_test)\n",
        "y_pred = np.argmax(y_pred, axis=1)\n",
        "\n",
        "\n",
        "accuracy = accuracy_score( np.argmax( y_test_one , axis=1) , y_pred)\n",
        "print(f'Accuracy: {accuracy:.2f}')"
      ]
    },
    {
      "cell_type": "code",
      "execution_count": null,
      "id": "eb3316c3",
      "metadata": {
        "id": "eb3316c3",
        "outputId": "b3805878-a86a-47eb-9dec-d9f50ca429d5"
      },
      "outputs": [
        {
          "data": {
            "image/png": "[encoded data removed]",
            "text/plain": [
              "<Figure size 1000x800 with 2 Axes>"
            ]
          },
          "metadata": {},
          "output_type": "display_data"
        },
        {
          "data": {
            "image/png": "[encoded data removed]",
            "text/plain": [
              "<Figure size 1000x600 with 2 Axes>"
            ]
          },
          "metadata": {},
          "output_type": "display_data"
        }
      ],
      "source": [
        "model_evalutation( y_pred , 'Deep Neural Network' )"
      ]
    },
    {
      "cell_type": "markdown",
      "id": "d858dab2",
      "metadata": {
        "id": "d858dab2"
      },
      "source": [
        "## Exporting the best Model"
      ]
    },
    {
      "cell_type": "code",
      "execution_count": null,
      "id": "72d41404",
      "metadata": {
        "id": "72d41404",
        "outputId": "4cdcf294-e0dd-4735-ba3c-4efd963800d2"
      },
      "outputs": [
        {
          "data": {
            "text/plain": [
              "['url-classifier\\\\backend\\\\Model\\\\model.pkl']"
            ]
          },
          "execution_count": 195,
          "metadata": {},
          "output_type": "execute_result"
        }
      ],
      "source": [
        "import joblib\n",
        "joblib.dump(model, r'url-classifier\\backend\\Model\\model.pkl')"
      ]
    },
    {
      "cell_type": "code",
      "execution_count": null,
      "id": "da580d8a",
      "metadata": {
        "id": "da580d8a",
        "outputId": "d107a1ab-8007-4022-8b6e-bb43e51639ee"
      },
      "outputs": [
        {
          "data": {
            "text/plain": [
              "['url-classifier\\\\backend\\\\Model\\\\scaler.pkl']"
            ]
          },
          "execution_count": 196,
          "metadata": {},
          "output_type": "execute_result"
        }
      ],
      "source": [
        "joblib.dump(scaler, r'url-classifier\\backend\\Model\\scaler.pkl')"
      ]
    },
    {
      "cell_type": "markdown",
      "id": "cb4ce821",
      "metadata": {
        "id": "cb4ce821"
      },
      "source": [
        "## Importing the best Model"
      ]
    },
    {
      "cell_type": "code",
      "execution_count": null,
      "id": "b0133a23",
      "metadata": {
        "id": "b0133a23"
      },
      "outputs": [],
      "source": [
        "import joblib\n",
        "model = joblib.load(r'url-classifier\\backend\\Model\\model.pkl')"
      ]
    },
    {
      "cell_type": "markdown",
      "id": "d03f4116",
      "metadata": {
        "id": "d03f4116"
      },
      "source": [
        "## Classifying a Random URL"
      ]
    },
    {
      "cell_type": "code",
      "execution_count": null,
      "id": "61a3cf8d",
      "metadata": {
        "id": "61a3cf8d"
      },
      "outputs": [],
      "source": [
        "idx2Label = {0: \"benign\", 1: \"phishing\", 2: \"defacement\", 3: \"malware\"}"
      ]
    },
    {
      "cell_type": "code",
      "execution_count": null,
      "id": "45e36b07",
      "metadata": {
        "id": "45e36b07",
        "outputId": "7a8b8a60-cc00-40c3-b3b6-695905210da4"
      },
      "outputs": [
        {
          "name": "stdout",
          "output_type": "stream",
          "text": [
            "\u001b[1m1/1\u001b[0m \u001b[32m━━━━━━━━━━━━━━━━━━━━\u001b[0m\u001b[37m\u001b[0m \u001b[1m0s\u001b[0m 226ms/step\n"
          ]
        },
        {
          "data": {
            "text/plain": [
              "'benign'"
            ]
          },
          "execution_count": 199,
          "metadata": {},
          "output_type": "execute_result"
        }
      ],
      "source": [
        "def predict_url_class(url, model = model ):\n",
        "\n",
        "    features = extract_url_features(url, common_keywords)\n",
        "\n",
        "    features = np.array(features).reshape(1, -1)\n",
        "    features = scaler.transform(features)\n",
        "\n",
        "    y_pred_idx = model.predict(features)\n",
        "    y_pred_idx = np.argmax(y_pred_idx, axis=1)[0]\n",
        "\n",
        "    y_pred = idx2Label.get(y_pred_idx, y_pred_idx)\n",
        "\n",
        "    return y_pred\n",
        "\n",
        "predict_url_class(\"travel.yahoo.com/p-travelguide-2803882-insecta\")"
      ]
    },
    {
      "cell_type": "code",
      "execution_count": null,
      "id": "b0a93749",
      "metadata": {
        "id": "b0a93749",
        "outputId": "fe35493b-cb81-45b0-d3cb-1cd8454033f0"
      },
      "outputs": [
        {
          "name": "stdout",
          "output_type": "stream",
          "text": [
            "\u001b[1m1/1\u001b[0m \u001b[32m━━━━━━━━━━━━━━━━━━━━\u001b[0m\u001b[37m\u001b[0m \u001b[1m0s\u001b[0m 31ms/step\n"
          ]
        },
        {
          "data": {
            "text/plain": [
              "'benign'"
            ]
          },
          "execution_count": 200,
          "metadata": {},
          "output_type": "execute_result"
        }
      ],
      "source": [
        "predict_url_class(\"www.facebook.net\")"
      ]
    }
  ],
  "metadata": {
    "colab": {
      "provenance": []
    },
    "kernelspec": {
      "display_name": "base",
      "language": "python",
      "name": "python3"
    },
    "language_info": {
      "codemirror_mode": {
        "name": "ipython",
        "version": 3
      },
      "file_extension": ".py",
      "mimetype": "text/x-python",
      "name": "python",
      "nbconvert_exporter": "python",
      "pygments_lexer": "ipython3",
      "version": "3.12.3"
    }
  },
  "nbformat": 4,
  "nbformat_minor": 5
}
